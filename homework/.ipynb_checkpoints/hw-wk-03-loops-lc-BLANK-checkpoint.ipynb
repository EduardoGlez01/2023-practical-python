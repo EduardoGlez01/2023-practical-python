{
 "cells": [
  {
   "cell_type": "markdown",
   "metadata": {
    "id": "Dz4lidEcC-wu"
   },
   "source": [
    "# Homework for Week 3\n",
    "\n",
    "The goal for this homework is to see the relevant journalistic uses for what we learned in class in week 2.\n",
    "\n",
    "1. Using the power of automation for iterate through tedious, but important tasks.\n",
    "2. Tapping Python to iterate through calculations. In a few weeks, you'll be doing this on millions of rows.\n",
    "3. Processing data we have scraped into dataframes and/or csv files for analysis."
   ]
  },
  {
   "cell_type": "markdown",
   "metadata": {
    "id": "EEXSVGi2C-w4"
   },
   "source": [
    "# 1.  Combine different data points together \n",
    "\n",
    "#### You scrape some URLs and place them in a list called myURLS (provided below):\n"
   ]
  },
  {
   "cell_type": "code",
   "execution_count": 1,
   "metadata": {
    "id": "mQwOrDIWC-w4"
   },
   "outputs": [],
   "source": [
    "## run this cell to activate the list\n",
    "myURLS = [\n",
    "    'great-unique-data-1.html',\n",
    "    'great-unique-data-2.html',\n",
    "    'great-unique-data-3.html',\n",
    "    'great-unique-data-4.html',\n",
    "    'great-unique-data-5.html',\n",
    "    'great-unique-data-6.html',\n",
    "    'great-unique-data-7.html',\n",
    "    'great-unique-data-8.html',\n",
    "    'great-unique-data-9.html',\n",
    "    'great-unique-data-10.html',\n",
    "    'great-unique-data-11.html',\n",
    "    'great-unique-data-12.html',\n",
    "    'great-unique-data-13.html',\n",
    "    'great-unique-data-14.html',\n",
    "    'great-unique-data-15.html'\n",
    "]\n"
   ]
  },
  {
   "cell_type": "code",
   "execution_count": 2,
   "metadata": {
    "colab": {
     "base_uri": "https://localhost:8080/"
    },
    "id": "XGrsmmioC-w4",
    "outputId": "daf42c56-696e-45c5-daec-967ea4801db2"
   },
   "outputs": [
    {
     "data": {
      "text/plain": [
       "['great-unique-data-1.html',\n",
       " 'great-unique-data-2.html',\n",
       " 'great-unique-data-3.html',\n",
       " 'great-unique-data-4.html',\n",
       " 'great-unique-data-5.html',\n",
       " 'great-unique-data-6.html',\n",
       " 'great-unique-data-7.html',\n",
       " 'great-unique-data-8.html',\n",
       " 'great-unique-data-9.html',\n",
       " 'great-unique-data-10.html',\n",
       " 'great-unique-data-11.html',\n",
       " 'great-unique-data-12.html',\n",
       " 'great-unique-data-13.html',\n",
       " 'great-unique-data-14.html',\n",
       " 'great-unique-data-15.html']"
      ]
     },
     "execution_count": 2,
     "metadata": {},
     "output_type": "execute_result"
    }
   ],
   "source": [
    "## CALL myURLS to check it out\n",
    "myURLS"
   ]
  },
  {
   "cell_type": "markdown",
   "metadata": {
    "id": "_W4WZ9-_C-w5"
   },
   "source": [
    "### * You realize that these URLs are missing the base of \"http://www.importantsite.com/\"\n",
    "### * Use a ```for loop``` to join the base URL to every partial URL in your list.\n",
    "### * Print each FULL URL\n",
    "It should look like: ```\"http://www.importantsite.com/great-unique-data-14.html``` but with unique numbers"
   ]
  },
  {
   "cell_type": "code",
   "execution_count": 3,
   "metadata": {
    "colab": {
     "base_uri": "https://localhost:8080/"
    },
    "id": "hFqX3JypC-w5",
    "outputId": "7322e6a3-c720-455b-e9fe-965e185f51bf"
   },
   "outputs": [
    {
     "name": "stdout",
     "output_type": "stream",
     "text": [
      "http://www.importantsite.com/great-unique-data-1.html\n",
      "http://www.importantsite.com/great-unique-data-2.html\n",
      "http://www.importantsite.com/great-unique-data-3.html\n",
      "http://www.importantsite.com/great-unique-data-4.html\n",
      "http://www.importantsite.com/great-unique-data-5.html\n",
      "http://www.importantsite.com/great-unique-data-6.html\n",
      "http://www.importantsite.com/great-unique-data-7.html\n",
      "http://www.importantsite.com/great-unique-data-8.html\n",
      "http://www.importantsite.com/great-unique-data-9.html\n",
      "http://www.importantsite.com/great-unique-data-10.html\n",
      "http://www.importantsite.com/great-unique-data-11.html\n",
      "http://www.importantsite.com/great-unique-data-12.html\n",
      "http://www.importantsite.com/great-unique-data-13.html\n",
      "http://www.importantsite.com/great-unique-data-14.html\n",
      "http://www.importantsite.com/great-unique-data-15.html\n"
     ]
    }
   ],
   "source": [
    "## PRINT ONLY build here:\n",
    "for url in myURLS:\n",
    "    print (f\"http://www.importantsite.com/{url}\")"
   ]
  },
  {
   "cell_type": "code",
   "execution_count": 4,
   "metadata": {
    "colab": {
     "base_uri": "https://localhost:8080/"
    },
    "id": "g-DNZj4OC-w5",
    "outputId": "d6a7b497-56fb-47bd-aed1-4f9cd19ae2a2"
   },
   "outputs": [
    {
     "data": {
      "text/plain": [
       "['great-unique-data-1.html',\n",
       " 'great-unique-data-2.html',\n",
       " 'great-unique-data-3.html',\n",
       " 'great-unique-data-4.html',\n",
       " 'great-unique-data-5.html',\n",
       " 'great-unique-data-6.html',\n",
       " 'great-unique-data-7.html',\n",
       " 'great-unique-data-8.html',\n",
       " 'great-unique-data-9.html',\n",
       " 'great-unique-data-10.html',\n",
       " 'great-unique-data-11.html',\n",
       " 'great-unique-data-12.html',\n",
       " 'great-unique-data-13.html',\n",
       " 'great-unique-data-14.html',\n",
       " 'great-unique-data-15.html']"
      ]
     },
     "execution_count": 4,
     "metadata": {},
     "output_type": "execute_result"
    }
   ],
   "source": [
    "## call myURLS.\n",
    "## do they have the full url?\n",
    "myURLS"
   ]
  },
  {
   "cell_type": "markdown",
   "metadata": {
    "id": "fM6-d1hXC-w5"
   },
   "source": [
    "## 2. Update myURLS and store full URLS in a new list\n",
    "\n",
    "#### Instead of just printing the joined URLs, create a new list called ```full_URLS``` that holds the full URLs."
   ]
  },
  {
   "cell_type": "code",
   "execution_count": 5,
   "metadata": {
    "colab": {
     "base_uri": "https://localhost:8080/"
    },
    "id": "vggh0aYAC-w5",
    "outputId": "7e1f46d1-0b1c-4784-c838-798bea161370"
   },
   "outputs": [
    {
     "data": {
      "text/plain": [
       "['http://www.importantsite.com/great-unique-data-1.html',\n",
       " 'http://www.importantsite.com/great-unique-data-2.html',\n",
       " 'http://www.importantsite.com/great-unique-data-3.html',\n",
       " 'http://www.importantsite.com/great-unique-data-4.html',\n",
       " 'http://www.importantsite.com/great-unique-data-5.html',\n",
       " 'http://www.importantsite.com/great-unique-data-6.html',\n",
       " 'http://www.importantsite.com/great-unique-data-7.html',\n",
       " 'http://www.importantsite.com/great-unique-data-8.html',\n",
       " 'http://www.importantsite.com/great-unique-data-9.html',\n",
       " 'http://www.importantsite.com/great-unique-data-10.html',\n",
       " 'http://www.importantsite.com/great-unique-data-11.html',\n",
       " 'http://www.importantsite.com/great-unique-data-12.html',\n",
       " 'http://www.importantsite.com/great-unique-data-13.html',\n",
       " 'http://www.importantsite.com/great-unique-data-14.html',\n",
       " 'http://www.importantsite.com/great-unique-data-15.html']"
      ]
     },
     "execution_count": 5,
     "metadata": {},
     "output_type": "execute_result"
    }
   ],
   "source": [
    "## build here:\n",
    "new_urls = []\n",
    "for url in myURLS:\n",
    "    new_urls.append((\"http://www.importantsite.com/\" + url))\n",
    "new_urls\n"
   ]
  },
  {
   "cell_type": "markdown",
   "metadata": {},
   "source": [
    "## SETUP\n",
    "You have a long list of toxins. Run the next cell to pull the list into memory"
   ]
  },
  {
   "cell_type": "code",
   "execution_count": 6,
   "metadata": {},
   "outputs": [],
   "source": [
    "toxins = [\n",
    "        \"Recombinant Bovine Growth Hormone\", \n",
    "        \"Butylated Hydroxyanisole\", \n",
    "        \"Sodium Aluminum Sulphate\",\n",
    "        \"Potassium Aluminum Sulphate\",\n",
    "        \"Sodium Nitrite\",\n",
    "        \"Polycyclic Aromatic Hydrocarbons\",\n",
    "        \"Dioxins\",\n",
    "        \"Heterocyclic Amines\",\n",
    "        \"Butylated Hydroxytoluene\",\n",
    "        \"Polyvinyl Chloride\",\n",
    "        \"PVC\",\n",
    "        \"Perfluorooctanoic Acid\",\n",
    "        \"PFOA\",\n",
    "        \"Triclosan\",\n",
    "        \"Bisphenol-A\",\n",
    "        \"BPA\",\n",
    "        \"Formaldehyde\",\n",
    "        \"Naphthalene\",\n",
    "        \"Asbestos\"\n",
    "         ]"
   ]
  },
  {
   "cell_type": "markdown",
   "metadata": {},
   "source": [
    "## 3. Using a ```for loop``` to create a list called ```sodium_fl``` that captures only the toxins that have the word ```sodium``` in them."
   ]
  },
  {
   "cell_type": "code",
   "execution_count": 7,
   "metadata": {},
   "outputs": [
    {
     "name": "stdout",
     "output_type": "stream",
     "text": [
      "['Sodium Aluminum Sulphate', 'Sodium Nitrite']\n"
     ]
    }
   ],
   "source": [
    "## build it here\n",
    "sodium_fl = []\n",
    "for toxin in toxins:\n",
    "    if \"sodium\" in toxin.lower():\n",
    "        sodium_fl.append(toxin)\n",
    "print(sodium_fl)"
   ]
  },
  {
   "cell_type": "markdown",
   "metadata": {},
   "source": [
    "## 4. Using a ```list comprehension``` create a list called ```sodium_lc``` that captures only the toxins that have the word ```sodium``` in them."
   ]
  },
  {
   "cell_type": "code",
   "execution_count": 8,
   "metadata": {
    "colab": {
     "base_uri": "https://localhost:8080/"
    },
    "id": "1_IubbqlC-w4",
    "outputId": "b680eae8-4ed3-4e0f-bf4b-f96ca0a17f46"
   },
   "outputs": [
    {
     "name": "stdout",
     "output_type": "stream",
     "text": [
      "['Sodium Aluminum Sulphate', 'Sodium Nitrite']\n"
     ]
    }
   ],
   "source": [
    "## build here: \n",
    "sodium_lc = [toxin for toxin in toxins if \"sodium\" in toxin.lower()]\n",
    "print(sodium_lc)"
   ]
  },
  {
   "cell_type": "markdown",
   "metadata": {},
   "source": [
    "## 5. ```for loop``` Calculations\n",
    "\n",
    "Run the following list:"
   ]
  },
  {
   "cell_type": "code",
   "execution_count": 9,
   "metadata": {},
   "outputs": [],
   "source": [
    "## run this cell\n",
    "monthly_rent_2023 = [3500, 2700, 1200, 5000, 3500, 2000, 4300, 3400, 3900 ]"
   ]
  },
  {
   "cell_type": "markdown",
   "metadata": {},
   "source": [
    "In this quickly gentrifying neighborhood, the monthly rent will increase by 27.8 percent for 2024.  Using a ```for loop``` create a new list called ```monthly_rent_2024_fl``` that shows the increased rent rounded to ZERO decimal places. \n",
    "\n",
    "Do the calculation programmatically."
   ]
  },
  {
   "cell_type": "code",
   "execution_count": 10,
   "metadata": {},
   "outputs": [
    {
     "name": "stdout",
     "output_type": "stream",
     "text": [
      "[4473, 3451, 1534, 6390, 4473, 2556, 5495, 4345, 4984]\n"
     ]
    }
   ],
   "source": [
    "### answer here (create more cells if necessary)\n",
    "monthly_rent_2024_fl = []\n",
    "for rent in monthly_rent_2023:\n",
    "    increase = rent * 0.278\n",
    "    new_rent = round(rent + increase)\n",
    "    monthly_rent_2024_fl.append(new_rent)\n",
    "print(monthly_rent_2024_fl)"
   ]
  },
  {
   "cell_type": "markdown",
   "metadata": {},
   "source": [
    "## 6. ```list comprehension``` Calculation\n",
    "\n",
    "The same scenario as above but now create a list called ```monthly_rent_2024_lc``` using ```list comprehension```."
   ]
  },
  {
   "cell_type": "code",
   "execution_count": 25,
   "metadata": {},
   "outputs": [
    {
     "name": "stdout",
     "output_type": "stream",
     "text": [
      "[4473, 3451, 1534, 6390, 4473, 2556, 5495, 4345, 4984]\n"
     ]
    }
   ],
   "source": [
    "### answer here (create more cells if necessary)\n",
    "monthly_rent_2024_lc = [round(rent * 1.278) for rent in monthly_rent_2023]\n",
    "print(monthly_rent_2024_lc)"
   ]
  },
  {
   "cell_type": "markdown",
   "metadata": {},
   "source": [
    "## 7. ```zip``` it\n",
    "\n",
    "You scrape a website and end up with the lists below.\n",
    "\n",
    "Use both the methods we covered in class to create a ```df``` and then a ```csv``` file from these lists."
   ]
  },
  {
   "cell_type": "code",
   "execution_count": 62,
   "metadata": {},
   "outputs": [],
   "source": [
    "## The content you scraped is now in the following lists:\n",
    "\n",
    "source_files = ['7681804Q.pdf', '7543447R.pdf', '7864672J.pdf', '8073426Q.pdf', '7909756P.pdf', '7749758M.pdf', '7917101M.pdf', '7880385Y.pdf', '7958281Z.pdf', '7836909K.pdf', '7891371L.pdf', '7096205N.pdf']\n",
    "\n",
    "date_appeals = ['10-Jan-18', '31-May-17', '20-Nov-18', '6-Dec-19', '12-Feb-19', '1-May-18', '25-Feb-19', '18-Dec-18', '8-May-19', '2-Oct-18', '8-Jan-19', '6-Aug-15']\n",
    "\n",
    "cognition_related = [False, True, False, False, True, False, False, True, True, True, False, False]\n",
    "\n",
    "positive_decisions = [False, True, True, False, False, True, True, True, True, True, False, True]\n"
   ]
  },
  {
   "cell_type": "markdown",
   "metadata": {},
   "source": [
    "### A- Use the zip() into list of dictionaries method"
   ]
  },
  {
   "cell_type": "code",
   "execution_count": 57,
   "metadata": {},
   "outputs": [
    {
     "data": {
      "text/plain": [
       "[{'source_file': ['7681804Q.pdf',\n",
       "   '7543447R.pdf',\n",
       "   '7864672J.pdf',\n",
       "   '8073426Q.pdf',\n",
       "   '7909756P.pdf',\n",
       "   '7749758M.pdf',\n",
       "   '7917101M.pdf',\n",
       "   '7880385Y.pdf',\n",
       "   '7958281Z.pdf',\n",
       "   '7836909K.pdf',\n",
       "   '7891371L.pdf',\n",
       "   '7096205N.pdf'],\n",
       "  'date_appeal': ['10-Jan-18',\n",
       "   '31-May-17',\n",
       "   '20-Nov-18',\n",
       "   '6-Dec-19',\n",
       "   '12-Feb-19',\n",
       "   '1-May-18',\n",
       "   '25-Feb-19',\n",
       "   '18-Dec-18',\n",
       "   '8-May-19',\n",
       "   '2-Oct-18',\n",
       "   '8-Jan-19',\n",
       "   '6-Aug-15'],\n",
       "  'cognition_related': False,\n",
       "  'positive_decision': [False,\n",
       "   True,\n",
       "   True,\n",
       "   False,\n",
       "   False,\n",
       "   True,\n",
       "   True,\n",
       "   True,\n",
       "   True,\n",
       "   True,\n",
       "   False,\n",
       "   True]},\n",
       " {'source_file': ['7681804Q.pdf',\n",
       "   '7543447R.pdf',\n",
       "   '7864672J.pdf',\n",
       "   '8073426Q.pdf',\n",
       "   '7909756P.pdf',\n",
       "   '7749758M.pdf',\n",
       "   '7917101M.pdf',\n",
       "   '7880385Y.pdf',\n",
       "   '7958281Z.pdf',\n",
       "   '7836909K.pdf',\n",
       "   '7891371L.pdf',\n",
       "   '7096205N.pdf'],\n",
       "  'date_appeal': ['10-Jan-18',\n",
       "   '31-May-17',\n",
       "   '20-Nov-18',\n",
       "   '6-Dec-19',\n",
       "   '12-Feb-19',\n",
       "   '1-May-18',\n",
       "   '25-Feb-19',\n",
       "   '18-Dec-18',\n",
       "   '8-May-19',\n",
       "   '2-Oct-18',\n",
       "   '8-Jan-19',\n",
       "   '6-Aug-15'],\n",
       "  'cognition_related': True,\n",
       "  'positive_decision': [False,\n",
       "   True,\n",
       "   True,\n",
       "   False,\n",
       "   False,\n",
       "   True,\n",
       "   True,\n",
       "   True,\n",
       "   True,\n",
       "   True,\n",
       "   False,\n",
       "   True]},\n",
       " {'source_file': ['7681804Q.pdf',\n",
       "   '7543447R.pdf',\n",
       "   '7864672J.pdf',\n",
       "   '8073426Q.pdf',\n",
       "   '7909756P.pdf',\n",
       "   '7749758M.pdf',\n",
       "   '7917101M.pdf',\n",
       "   '7880385Y.pdf',\n",
       "   '7958281Z.pdf',\n",
       "   '7836909K.pdf',\n",
       "   '7891371L.pdf',\n",
       "   '7096205N.pdf'],\n",
       "  'date_appeal': ['10-Jan-18',\n",
       "   '31-May-17',\n",
       "   '20-Nov-18',\n",
       "   '6-Dec-19',\n",
       "   '12-Feb-19',\n",
       "   '1-May-18',\n",
       "   '25-Feb-19',\n",
       "   '18-Dec-18',\n",
       "   '8-May-19',\n",
       "   '2-Oct-18',\n",
       "   '8-Jan-19',\n",
       "   '6-Aug-15'],\n",
       "  'cognition_related': False,\n",
       "  'positive_decision': [False,\n",
       "   True,\n",
       "   True,\n",
       "   False,\n",
       "   False,\n",
       "   True,\n",
       "   True,\n",
       "   True,\n",
       "   True,\n",
       "   True,\n",
       "   False,\n",
       "   True]},\n",
       " {'source_file': ['7681804Q.pdf',\n",
       "   '7543447R.pdf',\n",
       "   '7864672J.pdf',\n",
       "   '8073426Q.pdf',\n",
       "   '7909756P.pdf',\n",
       "   '7749758M.pdf',\n",
       "   '7917101M.pdf',\n",
       "   '7880385Y.pdf',\n",
       "   '7958281Z.pdf',\n",
       "   '7836909K.pdf',\n",
       "   '7891371L.pdf',\n",
       "   '7096205N.pdf'],\n",
       "  'date_appeal': ['10-Jan-18',\n",
       "   '31-May-17',\n",
       "   '20-Nov-18',\n",
       "   '6-Dec-19',\n",
       "   '12-Feb-19',\n",
       "   '1-May-18',\n",
       "   '25-Feb-19',\n",
       "   '18-Dec-18',\n",
       "   '8-May-19',\n",
       "   '2-Oct-18',\n",
       "   '8-Jan-19',\n",
       "   '6-Aug-15'],\n",
       "  'cognition_related': False,\n",
       "  'positive_decision': [False,\n",
       "   True,\n",
       "   True,\n",
       "   False,\n",
       "   False,\n",
       "   True,\n",
       "   True,\n",
       "   True,\n",
       "   True,\n",
       "   True,\n",
       "   False,\n",
       "   True]},\n",
       " {'source_file': ['7681804Q.pdf',\n",
       "   '7543447R.pdf',\n",
       "   '7864672J.pdf',\n",
       "   '8073426Q.pdf',\n",
       "   '7909756P.pdf',\n",
       "   '7749758M.pdf',\n",
       "   '7917101M.pdf',\n",
       "   '7880385Y.pdf',\n",
       "   '7958281Z.pdf',\n",
       "   '7836909K.pdf',\n",
       "   '7891371L.pdf',\n",
       "   '7096205N.pdf'],\n",
       "  'date_appeal': ['10-Jan-18',\n",
       "   '31-May-17',\n",
       "   '20-Nov-18',\n",
       "   '6-Dec-19',\n",
       "   '12-Feb-19',\n",
       "   '1-May-18',\n",
       "   '25-Feb-19',\n",
       "   '18-Dec-18',\n",
       "   '8-May-19',\n",
       "   '2-Oct-18',\n",
       "   '8-Jan-19',\n",
       "   '6-Aug-15'],\n",
       "  'cognition_related': True,\n",
       "  'positive_decision': [False,\n",
       "   True,\n",
       "   True,\n",
       "   False,\n",
       "   False,\n",
       "   True,\n",
       "   True,\n",
       "   True,\n",
       "   True,\n",
       "   True,\n",
       "   False,\n",
       "   True]},\n",
       " {'source_file': ['7681804Q.pdf',\n",
       "   '7543447R.pdf',\n",
       "   '7864672J.pdf',\n",
       "   '8073426Q.pdf',\n",
       "   '7909756P.pdf',\n",
       "   '7749758M.pdf',\n",
       "   '7917101M.pdf',\n",
       "   '7880385Y.pdf',\n",
       "   '7958281Z.pdf',\n",
       "   '7836909K.pdf',\n",
       "   '7891371L.pdf',\n",
       "   '7096205N.pdf'],\n",
       "  'date_appeal': ['10-Jan-18',\n",
       "   '31-May-17',\n",
       "   '20-Nov-18',\n",
       "   '6-Dec-19',\n",
       "   '12-Feb-19',\n",
       "   '1-May-18',\n",
       "   '25-Feb-19',\n",
       "   '18-Dec-18',\n",
       "   '8-May-19',\n",
       "   '2-Oct-18',\n",
       "   '8-Jan-19',\n",
       "   '6-Aug-15'],\n",
       "  'cognition_related': False,\n",
       "  'positive_decision': [False,\n",
       "   True,\n",
       "   True,\n",
       "   False,\n",
       "   False,\n",
       "   True,\n",
       "   True,\n",
       "   True,\n",
       "   True,\n",
       "   True,\n",
       "   False,\n",
       "   True]},\n",
       " {'source_file': ['7681804Q.pdf',\n",
       "   '7543447R.pdf',\n",
       "   '7864672J.pdf',\n",
       "   '8073426Q.pdf',\n",
       "   '7909756P.pdf',\n",
       "   '7749758M.pdf',\n",
       "   '7917101M.pdf',\n",
       "   '7880385Y.pdf',\n",
       "   '7958281Z.pdf',\n",
       "   '7836909K.pdf',\n",
       "   '7891371L.pdf',\n",
       "   '7096205N.pdf'],\n",
       "  'date_appeal': ['10-Jan-18',\n",
       "   '31-May-17',\n",
       "   '20-Nov-18',\n",
       "   '6-Dec-19',\n",
       "   '12-Feb-19',\n",
       "   '1-May-18',\n",
       "   '25-Feb-19',\n",
       "   '18-Dec-18',\n",
       "   '8-May-19',\n",
       "   '2-Oct-18',\n",
       "   '8-Jan-19',\n",
       "   '6-Aug-15'],\n",
       "  'cognition_related': False,\n",
       "  'positive_decision': [False,\n",
       "   True,\n",
       "   True,\n",
       "   False,\n",
       "   False,\n",
       "   True,\n",
       "   True,\n",
       "   True,\n",
       "   True,\n",
       "   True,\n",
       "   False,\n",
       "   True]},\n",
       " {'source_file': ['7681804Q.pdf',\n",
       "   '7543447R.pdf',\n",
       "   '7864672J.pdf',\n",
       "   '8073426Q.pdf',\n",
       "   '7909756P.pdf',\n",
       "   '7749758M.pdf',\n",
       "   '7917101M.pdf',\n",
       "   '7880385Y.pdf',\n",
       "   '7958281Z.pdf',\n",
       "   '7836909K.pdf',\n",
       "   '7891371L.pdf',\n",
       "   '7096205N.pdf'],\n",
       "  'date_appeal': ['10-Jan-18',\n",
       "   '31-May-17',\n",
       "   '20-Nov-18',\n",
       "   '6-Dec-19',\n",
       "   '12-Feb-19',\n",
       "   '1-May-18',\n",
       "   '25-Feb-19',\n",
       "   '18-Dec-18',\n",
       "   '8-May-19',\n",
       "   '2-Oct-18',\n",
       "   '8-Jan-19',\n",
       "   '6-Aug-15'],\n",
       "  'cognition_related': True,\n",
       "  'positive_decision': [False,\n",
       "   True,\n",
       "   True,\n",
       "   False,\n",
       "   False,\n",
       "   True,\n",
       "   True,\n",
       "   True,\n",
       "   True,\n",
       "   True,\n",
       "   False,\n",
       "   True]},\n",
       " {'source_file': ['7681804Q.pdf',\n",
       "   '7543447R.pdf',\n",
       "   '7864672J.pdf',\n",
       "   '8073426Q.pdf',\n",
       "   '7909756P.pdf',\n",
       "   '7749758M.pdf',\n",
       "   '7917101M.pdf',\n",
       "   '7880385Y.pdf',\n",
       "   '7958281Z.pdf',\n",
       "   '7836909K.pdf',\n",
       "   '7891371L.pdf',\n",
       "   '7096205N.pdf'],\n",
       "  'date_appeal': ['10-Jan-18',\n",
       "   '31-May-17',\n",
       "   '20-Nov-18',\n",
       "   '6-Dec-19',\n",
       "   '12-Feb-19',\n",
       "   '1-May-18',\n",
       "   '25-Feb-19',\n",
       "   '18-Dec-18',\n",
       "   '8-May-19',\n",
       "   '2-Oct-18',\n",
       "   '8-Jan-19',\n",
       "   '6-Aug-15'],\n",
       "  'cognition_related': True,\n",
       "  'positive_decision': [False,\n",
       "   True,\n",
       "   True,\n",
       "   False,\n",
       "   False,\n",
       "   True,\n",
       "   True,\n",
       "   True,\n",
       "   True,\n",
       "   True,\n",
       "   False,\n",
       "   True]},\n",
       " {'source_file': ['7681804Q.pdf',\n",
       "   '7543447R.pdf',\n",
       "   '7864672J.pdf',\n",
       "   '8073426Q.pdf',\n",
       "   '7909756P.pdf',\n",
       "   '7749758M.pdf',\n",
       "   '7917101M.pdf',\n",
       "   '7880385Y.pdf',\n",
       "   '7958281Z.pdf',\n",
       "   '7836909K.pdf',\n",
       "   '7891371L.pdf',\n",
       "   '7096205N.pdf'],\n",
       "  'date_appeal': ['10-Jan-18',\n",
       "   '31-May-17',\n",
       "   '20-Nov-18',\n",
       "   '6-Dec-19',\n",
       "   '12-Feb-19',\n",
       "   '1-May-18',\n",
       "   '25-Feb-19',\n",
       "   '18-Dec-18',\n",
       "   '8-May-19',\n",
       "   '2-Oct-18',\n",
       "   '8-Jan-19',\n",
       "   '6-Aug-15'],\n",
       "  'cognition_related': True,\n",
       "  'positive_decision': [False,\n",
       "   True,\n",
       "   True,\n",
       "   False,\n",
       "   False,\n",
       "   True,\n",
       "   True,\n",
       "   True,\n",
       "   True,\n",
       "   True,\n",
       "   False,\n",
       "   True]},\n",
       " {'source_file': ['7681804Q.pdf',\n",
       "   '7543447R.pdf',\n",
       "   '7864672J.pdf',\n",
       "   '8073426Q.pdf',\n",
       "   '7909756P.pdf',\n",
       "   '7749758M.pdf',\n",
       "   '7917101M.pdf',\n",
       "   '7880385Y.pdf',\n",
       "   '7958281Z.pdf',\n",
       "   '7836909K.pdf',\n",
       "   '7891371L.pdf',\n",
       "   '7096205N.pdf'],\n",
       "  'date_appeal': ['10-Jan-18',\n",
       "   '31-May-17',\n",
       "   '20-Nov-18',\n",
       "   '6-Dec-19',\n",
       "   '12-Feb-19',\n",
       "   '1-May-18',\n",
       "   '25-Feb-19',\n",
       "   '18-Dec-18',\n",
       "   '8-May-19',\n",
       "   '2-Oct-18',\n",
       "   '8-Jan-19',\n",
       "   '6-Aug-15'],\n",
       "  'cognition_related': False,\n",
       "  'positive_decision': [False,\n",
       "   True,\n",
       "   True,\n",
       "   False,\n",
       "   False,\n",
       "   True,\n",
       "   True,\n",
       "   True,\n",
       "   True,\n",
       "   True,\n",
       "   False,\n",
       "   True]},\n",
       " {'source_file': ['7681804Q.pdf',\n",
       "   '7543447R.pdf',\n",
       "   '7864672J.pdf',\n",
       "   '8073426Q.pdf',\n",
       "   '7909756P.pdf',\n",
       "   '7749758M.pdf',\n",
       "   '7917101M.pdf',\n",
       "   '7880385Y.pdf',\n",
       "   '7958281Z.pdf',\n",
       "   '7836909K.pdf',\n",
       "   '7891371L.pdf',\n",
       "   '7096205N.pdf'],\n",
       "  'date_appeal': ['10-Jan-18',\n",
       "   '31-May-17',\n",
       "   '20-Nov-18',\n",
       "   '6-Dec-19',\n",
       "   '12-Feb-19',\n",
       "   '1-May-18',\n",
       "   '25-Feb-19',\n",
       "   '18-Dec-18',\n",
       "   '8-May-19',\n",
       "   '2-Oct-18',\n",
       "   '8-Jan-19',\n",
       "   '6-Aug-15'],\n",
       "  'cognition_related': False,\n",
       "  'positive_decision': [False,\n",
       "   True,\n",
       "   True,\n",
       "   False,\n",
       "   False,\n",
       "   True,\n",
       "   True,\n",
       "   True,\n",
       "   True,\n",
       "   True,\n",
       "   False,\n",
       "   True]}]"
      ]
     },
     "execution_count": 57,
     "metadata": {},
     "output_type": "execute_result"
    }
   ],
   "source": [
    "## code here – create more cells as necessary\n",
    "dic_zip = []\n",
    "for (source_file, date_appeal, cognition_related, positive_decision) in\\\n",
    "zip (source_files, date_appeals, cognition_related, positive_decisions):\n",
    "    dic_zip.append({\n",
    "        \"source_file\": source_files,\n",
    "        \"date_appeal\": date_appeals,\n",
    "        \"cognition_related\": cognition_related,\n",
    "        \"positive_decision\": positive_decisions\n",
    "    })\n",
    "    \n",
    "dic_zip"
   ]
  },
  {
   "cell_type": "markdown",
   "metadata": {},
   "source": [
    "### B- Use the zip() into list of tuples method"
   ]
  },
  {
   "cell_type": "code",
   "execution_count": 64,
   "metadata": {},
   "outputs": [
    {
     "data": {
      "text/plain": [
       "[('7681804Q.pdf', '10-Jan-18', False, False),\n",
       " ('7543447R.pdf', '31-May-17', True, True),\n",
       " ('7864672J.pdf', '20-Nov-18', False, True),\n",
       " ('8073426Q.pdf', '6-Dec-19', False, False),\n",
       " ('7909756P.pdf', '12-Feb-19', True, False),\n",
       " ('7749758M.pdf', '1-May-18', False, True),\n",
       " ('7917101M.pdf', '25-Feb-19', False, True),\n",
       " ('7880385Y.pdf', '18-Dec-18', True, True),\n",
       " ('7958281Z.pdf', '8-May-19', True, True),\n",
       " ('7836909K.pdf', '2-Oct-18', True, True),\n",
       " ('7891371L.pdf', '8-Jan-19', False, False),\n",
       " ('7096205N.pdf', '6-Aug-15', False, True)]"
      ]
     },
     "execution_count": 64,
     "metadata": {},
     "output_type": "execute_result"
    }
   ],
   "source": [
    "## code here – create more cells as necessary\n",
    "dic_tup = []\n",
    "for item in zip (source_files, date_appeals, cognition_related, positive_decisions):\n",
    "    dic_tup.append(item)\n",
    "    \n",
    "dic_tup"
   ]
  },
  {
   "cell_type": "markdown",
   "metadata": {},
   "source": [
    "## Congratulations!\n",
    "\n",
    "You just harnessed the power of Python to accomplish the following tasks that are critical foundational skills to become an advanced data journalist:\n",
    "\n",
    "1. Using the power of automation for iterate through tedious, but important tasks.\n",
    "2. Tapping Python to iterate through calculations. In a few weeks, you'll be doing this on millions of rows.\n",
    "3. Processing data we have scraped into dataframes and/or csv files for analysis."
   ]
  },
  {
   "cell_type": "code",
   "execution_count": null,
   "metadata": {},
   "outputs": [],
   "source": []
  }
 ],
 "metadata": {
  "colab": {
   "collapsed_sections": [],
   "name": "homework-for-week-3-SOLUTIONS.ipynb",
   "provenance": []
  },
  "kernelspec": {
   "display_name": "Python 3 (ipykernel)",
   "language": "python",
   "name": "python3"
  },
  "language_info": {
   "codemirror_mode": {
    "name": "ipython",
    "version": 3
   },
   "file_extension": ".py",
   "mimetype": "text/x-python",
   "name": "python",
   "nbconvert_exporter": "python",
   "pygments_lexer": "ipython3",
   "version": "3.9.13"
  }
 },
 "nbformat": 4,
 "nbformat_minor": 1
}
