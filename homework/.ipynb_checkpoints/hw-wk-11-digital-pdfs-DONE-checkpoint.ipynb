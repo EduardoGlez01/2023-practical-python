{
 "cells": [
  {
   "cell_type": "markdown",
   "metadata": {
    "id": "Bwcv3o39z82D"
   },
   "source": [
    "# Multi-State FUDS \n",
    "\n",
    "- Access <a href=\"https://drive.google.com/file/d/14K4jDu7Uj07x2kWKAPrGyxLhSK0juQry/view?usp=share_link\">homework_fuds.zip</a>.\n",
    "\n",
    "- Manually unzip this file.\n",
    "\n",
    "- Write a script that finds only the pdf files and parses all the tables...\n",
    "\n",
    "- The final product should be a single csv file that contains the FUDS data for all states. (As we noted in class, West Virginian folder includes Wyoming rows).\n",
    "\n",
    "- You do NOT need to clean the data. Simply get it into a single CSV."
   ]
  },
  {
   "cell_type": "markdown",
   "metadata": {
    "id": "5Qa2xGCTanDn"
   },
   "source": [
    "## create more cells as needed"
   ]
  },
  {
   "cell_type": "code",
   "execution_count": 1,
   "metadata": {},
   "outputs": [
    {
     "name": "stdout",
     "output_type": "stream",
     "text": [
      "Note: you may need to restart the kernel to use updated packages.\n"
     ]
    }
   ],
   "source": [
    "pip install -q tabula-py"
   ]
  },
  {
   "cell_type": "code",
   "execution_count": 2,
   "metadata": {},
   "outputs": [
    {
     "name": "stdout",
     "output_type": "stream",
     "text": [
      "Requirement already satisfied: install-jdk in /Users/eduardogonzalez/opt/anaconda3/lib/python3.9/site-packages (1.1.0)\n",
      "Note: you may need to restart the kernel to use updated packages.\n"
     ]
    }
   ],
   "source": [
    "pip install install-jdk"
   ]
  },
  {
   "cell_type": "code",
   "execution_count": 127,
   "metadata": {},
   "outputs": [
    {
     "name": "stdout",
     "output_type": "stream",
     "text": [
      "Python version:\n",
      "    3.9.13 (main, Aug 25 2022, 18:29:29) \n",
      "[Clang 12.0.0 ]\n",
      "Java version:\n",
      "    java version \"21.0.1\" 2023-10-17 LTS\n",
      "Java(TM) SE Runtime Environment (build 21.0.1+12-LTS-29)\n",
      "Java HotSpot(TM) 64-Bit Server VM (build 21.0.1+12-LTS-29, mixed mode, sharing)\n",
      "tabula-py version: 2.8.2\n",
      "platform: macOS-10.16-x86_64-i386-64bit\n",
      "uname:\n",
      "    uname_result(system='Darwin', node='MacBook-Pro-de-EDUARDO.local', release='21.6.0', version='Darwin Kernel Version 21.6.0: Mon Dec 19 20:44:01 PST 2022; root:xnu-8020.240.18~2/RELEASE_X86_64', machine='x86_64')\n",
      "linux_distribution: ('Darwin', '21.6.0', '')\n",
      "mac_ver: ('10.16', ('', '', ''), 'x86_64')\n"
     ]
    }
   ],
   "source": [
    "## import libraries and tabula\n",
    "import pandas as pd\n",
    "import tabula\n",
    "import glob\n",
    "tabula.environment_info()"
   ]
  },
  {
   "cell_type": "code",
   "execution_count": 180,
   "metadata": {},
   "outputs": [
    {
     "data": {
      "text/plain": [
       "['all_homework_fuds/FUDS_NY.pdf',\n",
       " 'all_homework_fuds/FUDS_Inventory_WestVirginia.pdf',\n",
       " 'all_homework_fuds/USACE 2018_FUDS_Inventory_Alaska.pdf']"
      ]
     },
     "execution_count": 180,
     "metadata": {},
     "output_type": "execute_result"
    }
   ],
   "source": [
    "## Look for all the pdfs in \"all_homework_fuds\"\n",
    "pdfs = glob.glob(\"all_homework_fuds/*.pdf\")\n",
    "pdfs"
   ]
  },
  {
   "cell_type": "code",
   "execution_count": 181,
   "metadata": {},
   "outputs": [
    {
     "data": {
      "text/plain": [
       "25"
      ]
     },
     "execution_count": 181,
     "metadata": {},
     "output_type": "execute_result"
    }
   ],
   "source": [
    "##Checking if I can open the elements in \"pdfs\"\n",
    "len(tabula.read_pdf(pdfs[2], pages='all', multiple_tables=True))"
   ]
  },
  {
   "cell_type": "code",
   "execution_count": 193,
   "metadata": {},
   "outputs": [
    {
     "data": {
      "text/plain": [
       "[              State County        City                 Property Name  \\\n",
       " 0    167 Sites in New York         NaN                           NaN   \n",
       " 1         NY Albany County    ALTAMONT  NORTHEASTERN INDUSTRIAL PARK   \n",
       " 2         NY Albany County    ALTAMONT  NORTHEASTERN INDUSTRIAL PARK   \n",
       " 3         NY Albany County    ALTAMONT  NORTHEASTERN INDUSTRIAL PARK   \n",
       " 4         NY Albany County    ALTAMONT  NORTHEASTERN INDUSTRIAL PARK   \n",
       " ..                     ...         ...                           ...   \n",
       " 179      NY Niagara County  YOUNGSTOWN   LAKE ONTARIO ORDNANCE WORKS   \n",
       " 180      NY Niagara County  YOUNGSTOWN   LAKE ONTARIO ORDNANCE WORKS   \n",
       " 181      NY Niagara County  YOUNGSTOWN   LAKE ONTARIO ORDNANCE WORKS   \n",
       " 182      NY Niagara County  YOUNGSTOWN   LAKE ONTARIO ORDNANCE WORKS   \n",
       " 183      NY Niagara County  YOUNGSTOWN   LAKE ONTARIO ORDNANCE WORKS   \n",
       " \n",
       "     Property Numbe Site Number Category Division District  \n",
       " 0                                   NaN               NaN  \n",
       " 1                     C02NY0002 01 HTRW           NAD NAE  \n",
       " 2                     C02NY0002 03 HTRW           NAD NAE  \n",
       " 3                     C02NY0002 04 HTRW           NAD NAE  \n",
       " 4                     C02NY0002 05 HTRW           NAD NAE  \n",
       " ..                                  ...               ...  \n",
       " 179                   C02NY0025 04 HTRW           NAD NAE  \n",
       " 180               C02NY0025 06 CON/HTRW           NAD NAE  \n",
       " 181                   C02NY0025 10 HTRW           NAD NAE  \n",
       " 182                   C02NY0025 11 HTRW           NAD NAE  \n",
       " 183                   C02NY0025 12 HTRW           NAD NAE  \n",
       " \n",
       " [184 rows x 5 columns],\n",
       "                  State County        City              Property Name  \\\n",
       " 0   68 Sites in West Virginia         NaN                        NaN   \n",
       " 1           WV Kanawha County  CHARLESTON  YEAGER AIR NATIONAL GUARD   \n",
       " 2           WV Kanawha County  CHARLESTON  YEAGER AIR NATIONAL GUARD   \n",
       " 3             WV Mason County    CHESHIRE    WEST VIRGINIA ORD WORKS   \n",
       " 4             WV Mason County    CHESHIRE    WEST VIRGINIA ORD WORKS   \n",
       " ..                        ...         ...                        ...   \n",
       " 85          WY Laramie County    CHEYENNE   FE WARREN AFB FAC SITE 1   \n",
       " 86          WY Laramie County    CHEYENNE   FE WARREN AFB FAC SITE 1   \n",
       " 87          WY Laramie County    CHEYENNE   FE WARREN AFB FAC SITE 2   \n",
       " 88          WY Laramie County    CHEYENNE   FE WARREN AFB FAC SITE 2   \n",
       " 89          WY Laramie County    CHEYENNE   FE WARREN AFB FAC SITE 3   \n",
       " \n",
       "    Property Numbe Site Number Category Division District  \n",
       " 0                                  NaN               NaN  \n",
       " 1                G03WV0001 02 CON/HTRW           LRD LRL  \n",
       " 2                    G03WV0001 03 HTRW           LRD LRL  \n",
       " 3                    G03WV0015 00 HTRW           LRD LRL  \n",
       " 4                    G03WV0015 01 HTRW           LRD LRL  \n",
       " ..                                 ...               ...  \n",
       " 85               B08WY0464 01 CON/HTRW           NWD NWO  \n",
       " 86                   B08WY0464 02 HTRW           NWD NWO  \n",
       " 87               B08WY0465 01 CON/HTRW           NWD NWO  \n",
       " 88                   B08WY0465 02 HTRW           NWD NWO  \n",
       " 89               B08WY0466 01 CON/HTRW           NWD NWO  \n",
       " \n",
       " [90 rows x 5 columns],\n",
       "                      State County             City  \\\n",
       " 0             364 Sites in Alaska              NaN   \n",
       " 1    AK Yukon-koyukuk Census Area  160 MILES NE OF   \n",
       " 2                             NaN            YUKON   \n",
       " 3    AK Yukon-koyukuk Census Area  160 MILES NE OF   \n",
       " 4                             NaN            YUKON   \n",
       " ..                            ...              ...   \n",
       " 486            AK Yakutat Borough          YAKUTAT   \n",
       " 487            AK Yakutat Borough          YAKUTAT   \n",
       " 488            AK Yakutat Borough          YAKUTAT   \n",
       " 489            AK Yakutat Borough  YAKUTAT, SW. OF   \n",
       " 490            AK Yakutat Borough  YAKUTAT, SW. OF   \n",
       " \n",
       "        Property Name Property Numbe Site Number  Unnamed: 0  Category  \\\n",
       " 0                                           NaN         NaN       NaN   \n",
       " 1    PORCUPINE RIVER DEW STAGING CAMP F10AK0994         1.0  CON/HTRW   \n",
       " 2                                           NaN         NaN       NaN   \n",
       " 3    PORCUPINE RIVER DEW STAGING CAMP F10AK0994         2.0      HTRW   \n",
       " 4                                           NaN         NaN       NaN   \n",
       " ..                                          ...         ...       ...   \n",
       " 486                                         NaN         NaN  CON/HTRW   \n",
       " 487                                         NaN         NaN  CON/HTRW   \n",
       " 488                                         NaN         NaN  CON/HTRW   \n",
       " 489                                         NaN         NaN  CON/HTRW   \n",
       " 490                                         NaN         NaN      HTRW   \n",
       " \n",
       "     Division District       Property Name Property Numbe Site Number  \n",
       " 0                 NaN                 NaN                        NaN  \n",
       " 1             POD POA                 NaN                        NaN  \n",
       " 2                 NaN                 NaN                        NaN  \n",
       " 3             POD POA                 NaN                        NaN  \n",
       " 4                 NaN                 NaN                        NaN  \n",
       " ..                ...                 ...                        ...  \n",
       " 486           POD POA         YAKUTAT AFB               F10AK0606 05  \n",
       " 487           POD POA         YAKUTAT AFB               F10AK0606 06  \n",
       " 488           POD POA         YAKUTAT AFB               F10AK0606 07  \n",
       " 489           POD POA  OCEAN CAPE RR SITE               F10AK0747 01  \n",
       " 490           POD POA  OCEAN CAPE RR SITE               F10AK0747 03  \n",
       " \n",
       " [491 rows x 8 columns]]"
      ]
     },
     "execution_count": 193,
     "metadata": {},
     "output_type": "execute_result"
    }
   ],
   "source": [
    "## Making a foor loop to open all the pdfs in \"pdfs\" and concat their tables in every document\n",
    "all_tables = []\n",
    "for pdf in pdfs:\n",
    "    tables = tabula.read_pdf(pdf, pages='all', multiple_tables=True)\n",
    "    concat_table = pd.concat(tables, ignore_index=True)\n",
    "    all_tables.append(concat_table)\n",
    "all_tables"
   ]
  },
  {
   "cell_type": "code",
   "execution_count": 183,
   "metadata": {},
   "outputs": [
    {
     "data": {
      "text/plain": [
       "3"
      ]
     },
     "execution_count": 183,
     "metadata": {},
     "output_type": "execute_result"
    }
   ],
   "source": [
    "len(all_tables)"
   ]
  },
  {
   "cell_type": "code",
   "execution_count": 184,
   "metadata": {},
   "outputs": [
    {
     "data": {
      "text/plain": [
       "list"
      ]
     },
     "execution_count": 184,
     "metadata": {},
     "output_type": "execute_result"
    }
   ],
   "source": [
    "type(all_tables)"
   ]
  },
  {
   "cell_type": "code",
   "execution_count": 190,
   "metadata": {},
   "outputs": [
    {
     "data": {
      "text/html": [
       "<div>\n",
       "<style scoped>\n",
       "    .dataframe tbody tr th:only-of-type {\n",
       "        vertical-align: middle;\n",
       "    }\n",
       "\n",
       "    .dataframe tbody tr th {\n",
       "        vertical-align: top;\n",
       "    }\n",
       "\n",
       "    .dataframe thead th {\n",
       "        text-align: right;\n",
       "    }\n",
       "</style>\n",
       "<table border=\"1\" class=\"dataframe\">\n",
       "  <thead>\n",
       "    <tr style=\"text-align: right;\">\n",
       "      <th></th>\n",
       "      <th>State County</th>\n",
       "      <th>City</th>\n",
       "      <th>Property Name</th>\n",
       "      <th>Property Numbe Site Number Category</th>\n",
       "      <th>Division District</th>\n",
       "      <th>Property Name Property Numbe Site Number</th>\n",
       "      <th>Unnamed: 0</th>\n",
       "      <th>Category</th>\n",
       "      <th>Property Numbe Site Number</th>\n",
       "    </tr>\n",
       "  </thead>\n",
       "  <tbody>\n",
       "    <tr>\n",
       "      <th>0</th>\n",
       "      <td>167 Sites in New York</td>\n",
       "      <td>NaN</td>\n",
       "      <td>NaN</td>\n",
       "      <td>NaN</td>\n",
       "      <td>NaN</td>\n",
       "      <td>NaN</td>\n",
       "      <td>NaN</td>\n",
       "      <td>NaN</td>\n",
       "      <td>NaN</td>\n",
       "    </tr>\n",
       "    <tr>\n",
       "      <th>1</th>\n",
       "      <td>NY Albany County</td>\n",
       "      <td>ALTAMONT</td>\n",
       "      <td>NORTHEASTERN INDUSTRIAL PARK</td>\n",
       "      <td>C02NY0002 01 HTRW</td>\n",
       "      <td>NAD NAE</td>\n",
       "      <td>NaN</td>\n",
       "      <td>NaN</td>\n",
       "      <td>NaN</td>\n",
       "      <td>NaN</td>\n",
       "    </tr>\n",
       "    <tr>\n",
       "      <th>2</th>\n",
       "      <td>NY Albany County</td>\n",
       "      <td>ALTAMONT</td>\n",
       "      <td>NORTHEASTERN INDUSTRIAL PARK</td>\n",
       "      <td>C02NY0002 03 HTRW</td>\n",
       "      <td>NAD NAE</td>\n",
       "      <td>NaN</td>\n",
       "      <td>NaN</td>\n",
       "      <td>NaN</td>\n",
       "      <td>NaN</td>\n",
       "    </tr>\n",
       "    <tr>\n",
       "      <th>3</th>\n",
       "      <td>NY Albany County</td>\n",
       "      <td>ALTAMONT</td>\n",
       "      <td>NORTHEASTERN INDUSTRIAL PARK</td>\n",
       "      <td>C02NY0002 04 HTRW</td>\n",
       "      <td>NAD NAE</td>\n",
       "      <td>NaN</td>\n",
       "      <td>NaN</td>\n",
       "      <td>NaN</td>\n",
       "      <td>NaN</td>\n",
       "    </tr>\n",
       "    <tr>\n",
       "      <th>4</th>\n",
       "      <td>NY Albany County</td>\n",
       "      <td>ALTAMONT</td>\n",
       "      <td>NORTHEASTERN INDUSTRIAL PARK</td>\n",
       "      <td>C02NY0002 05 HTRW</td>\n",
       "      <td>NAD NAE</td>\n",
       "      <td>NaN</td>\n",
       "      <td>NaN</td>\n",
       "      <td>NaN</td>\n",
       "      <td>NaN</td>\n",
       "    </tr>\n",
       "    <tr>\n",
       "      <th>...</th>\n",
       "      <td>...</td>\n",
       "      <td>...</td>\n",
       "      <td>...</td>\n",
       "      <td>...</td>\n",
       "      <td>...</td>\n",
       "      <td>...</td>\n",
       "      <td>...</td>\n",
       "      <td>...</td>\n",
       "      <td>...</td>\n",
       "    </tr>\n",
       "    <tr>\n",
       "      <th>760</th>\n",
       "      <td>AK Yakutat Borough</td>\n",
       "      <td>YAKUTAT</td>\n",
       "      <td>YAKUTAT AFB</td>\n",
       "      <td>NaN</td>\n",
       "      <td>POD POA</td>\n",
       "      <td>NaN</td>\n",
       "      <td>NaN</td>\n",
       "      <td>CON/HTRW</td>\n",
       "      <td>F10AK0606 05</td>\n",
       "    </tr>\n",
       "    <tr>\n",
       "      <th>761</th>\n",
       "      <td>AK Yakutat Borough</td>\n",
       "      <td>YAKUTAT</td>\n",
       "      <td>YAKUTAT AFB</td>\n",
       "      <td>NaN</td>\n",
       "      <td>POD POA</td>\n",
       "      <td>NaN</td>\n",
       "      <td>NaN</td>\n",
       "      <td>CON/HTRW</td>\n",
       "      <td>F10AK0606 06</td>\n",
       "    </tr>\n",
       "    <tr>\n",
       "      <th>762</th>\n",
       "      <td>AK Yakutat Borough</td>\n",
       "      <td>YAKUTAT</td>\n",
       "      <td>YAKUTAT AFB</td>\n",
       "      <td>NaN</td>\n",
       "      <td>POD POA</td>\n",
       "      <td>NaN</td>\n",
       "      <td>NaN</td>\n",
       "      <td>CON/HTRW</td>\n",
       "      <td>F10AK0606 07</td>\n",
       "    </tr>\n",
       "    <tr>\n",
       "      <th>763</th>\n",
       "      <td>AK Yakutat Borough</td>\n",
       "      <td>YAKUTAT, SW. OF</td>\n",
       "      <td>OCEAN CAPE RR SITE</td>\n",
       "      <td>NaN</td>\n",
       "      <td>POD POA</td>\n",
       "      <td>NaN</td>\n",
       "      <td>NaN</td>\n",
       "      <td>CON/HTRW</td>\n",
       "      <td>F10AK0747 01</td>\n",
       "    </tr>\n",
       "    <tr>\n",
       "      <th>764</th>\n",
       "      <td>AK Yakutat Borough</td>\n",
       "      <td>YAKUTAT, SW. OF</td>\n",
       "      <td>OCEAN CAPE RR SITE</td>\n",
       "      <td>NaN</td>\n",
       "      <td>POD POA</td>\n",
       "      <td>NaN</td>\n",
       "      <td>NaN</td>\n",
       "      <td>HTRW</td>\n",
       "      <td>F10AK0747 03</td>\n",
       "    </tr>\n",
       "  </tbody>\n",
       "</table>\n",
       "<p>765 rows × 9 columns</p>\n",
       "</div>"
      ],
      "text/plain": [
       "              State County             City                 Property Name  \\\n",
       "0    167 Sites in New York              NaN                           NaN   \n",
       "1         NY Albany County         ALTAMONT  NORTHEASTERN INDUSTRIAL PARK   \n",
       "2         NY Albany County         ALTAMONT  NORTHEASTERN INDUSTRIAL PARK   \n",
       "3         NY Albany County         ALTAMONT  NORTHEASTERN INDUSTRIAL PARK   \n",
       "4         NY Albany County         ALTAMONT  NORTHEASTERN INDUSTRIAL PARK   \n",
       "..                     ...              ...                           ...   \n",
       "760     AK Yakutat Borough          YAKUTAT                   YAKUTAT AFB   \n",
       "761     AK Yakutat Borough          YAKUTAT                   YAKUTAT AFB   \n",
       "762     AK Yakutat Borough          YAKUTAT                   YAKUTAT AFB   \n",
       "763     AK Yakutat Borough  YAKUTAT, SW. OF            OCEAN CAPE RR SITE   \n",
       "764     AK Yakutat Borough  YAKUTAT, SW. OF            OCEAN CAPE RR SITE   \n",
       "\n",
       "    Property Numbe Site Number Category Division District  \\\n",
       "0                                   NaN               NaN   \n",
       "1                     C02NY0002 01 HTRW           NAD NAE   \n",
       "2                     C02NY0002 03 HTRW           NAD NAE   \n",
       "3                     C02NY0002 04 HTRW           NAD NAE   \n",
       "4                     C02NY0002 05 HTRW           NAD NAE   \n",
       "..                                  ...               ...   \n",
       "760                                 NaN           POD POA   \n",
       "761                                 NaN           POD POA   \n",
       "762                                 NaN           POD POA   \n",
       "763                                 NaN           POD POA   \n",
       "764                                 NaN           POD POA   \n",
       "\n",
       "    Property Name Property Numbe Site Number  Unnamed: 0  Category  \\\n",
       "0                                        NaN         NaN       NaN   \n",
       "1                                        NaN         NaN       NaN   \n",
       "2                                        NaN         NaN       NaN   \n",
       "3                                        NaN         NaN       NaN   \n",
       "4                                        NaN         NaN       NaN   \n",
       "..                                       ...         ...       ...   \n",
       "760                                      NaN         NaN  CON/HTRW   \n",
       "761                                      NaN         NaN  CON/HTRW   \n",
       "762                                      NaN         NaN  CON/HTRW   \n",
       "763                                      NaN         NaN  CON/HTRW   \n",
       "764                                      NaN         NaN      HTRW   \n",
       "\n",
       "    Property Numbe Site Number  \n",
       "0                          NaN  \n",
       "1                          NaN  \n",
       "2                          NaN  \n",
       "3                          NaN  \n",
       "4                          NaN  \n",
       "..                         ...  \n",
       "760               F10AK0606 05  \n",
       "761               F10AK0606 06  \n",
       "762               F10AK0606 07  \n",
       "763               F10AK0747 01  \n",
       "764               F10AK0747 03  \n",
       "\n",
       "[765 rows x 9 columns]"
      ]
     },
     "execution_count": 190,
     "metadata": {},
     "output_type": "execute_result"
    }
   ],
   "source": [
    "## Concat all the tables in all the documents\n",
    "df = pd.concat(all_tables, ignore_index=True)\n",
    "df"
   ]
  },
  {
   "cell_type": "code",
   "execution_count": 191,
   "metadata": {},
   "outputs": [],
   "source": [
    "## Export\n",
    "df.to_csv('tables_df.csv', index=False)"
   ]
  }
 ],
 "metadata": {
  "colab": {
   "collapsed_sections": [],
   "name": "hw-for-wk-10_PDF_tables_BLANKS.ipynb",
   "provenance": [
    {
     "file_id": "1wg0YVtXmNCitc4w6uc5JPkgU-ClcvGMS",
     "timestamp": 1650994330586
    },
    {
     "file_id": "1MrdlZuCQoMZlOzSH_9PPnS7wKLyKd9Uu",
     "timestamp": 1648598050371
    },
    {
     "file_id": "196JJpHRuv93U2Gbk42KuRmdgcGxD5CZi",
     "timestamp": 1642004668363
    },
    {
     "file_id": "1QL028jjf1V-PUTI9nD7yhW30LzkHXoBW",
     "timestamp": 1629247713779
    },
    {
     "file_id": "1brhRlLl140JrcbstAHiRC_GWE68faqDg",
     "timestamp": 1622048738498
    }
   ]
  },
  "kernelspec": {
   "display_name": "Python 3 (ipykernel)",
   "language": "python",
   "name": "python3"
  },
  "language_info": {
   "codemirror_mode": {
    "name": "ipython",
    "version": 3
   },
   "file_extension": ".py",
   "mimetype": "text/x-python",
   "name": "python",
   "nbconvert_exporter": "python",
   "pygments_lexer": "ipython3",
   "version": "3.9.13"
  }
 },
 "nbformat": 4,
 "nbformat_minor": 1
}
