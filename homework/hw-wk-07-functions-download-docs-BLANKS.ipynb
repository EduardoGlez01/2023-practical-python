{
 "cells": [
  {
   "cell_type": "markdown",
   "id": "0a089baa",
   "metadata": {},
   "source": [
    "# 1. Demo downloading files from websites \n",
    "\n",
    "There are ```txt``` and ```pdf``` files on:\n",
    "\n",
    "```https://sandeepmj.github.io/scrape-example-page/pages.html```\n",
    "\n",
    "Do the following:\n",
    "\n",
    "1. Download all ```pdf``` files."
   ]
  },
  {
   "cell_type": "code",
   "execution_count": null,
   "id": "c2151394",
   "metadata": {},
   "outputs": [],
   "source": [
    "## create cells here AS needed"
   ]
  },
  {
   "cell_type": "code",
   "execution_count": 5,
   "id": "9c12d092",
   "metadata": {},
   "outputs": [],
   "source": [
    "## Import libraries\n",
    "from bs4 import BeautifulSoup\n",
    "import requests\n",
    "import time\n",
    "from random import randrange"
   ]
  },
  {
   "cell_type": "code",
   "execution_count": 7,
   "id": "f4ae29f4",
   "metadata": {},
   "outputs": [],
   "source": [
    "## function to handle initial request\n",
    "def mk_request(url):\n",
    "    '''\n",
    "    Takes a provided url and returns requested response\n",
    "    '''\n",
    "    response = requests.get(url)\n",
    "    if 200 <= response.status_code < 400:\n",
    "        return response\n",
    "    else:\n",
    "        print( f\"request returned (response.status_code) error\")"
   ]
  },
  {
   "cell_type": "code",
   "execution_count": 8,
   "id": "1256e43f",
   "metadata": {},
   "outputs": [],
   "source": [
    "## Create url variable\n",
    "url = \"https://sandeepmj.github.io/scrape-example-page/pages.html\""
   ]
  },
  {
   "cell_type": "code",
   "execution_count": 9,
   "id": "5fb665e6",
   "metadata": {},
   "outputs": [
    {
     "data": {
      "text/plain": [
       "<Response [200]>"
      ]
     },
     "execution_count": 9,
     "metadata": {},
     "output_type": "execute_result"
    }
   ],
   "source": [
    "## check response\n",
    "response = mk_request(url)\n",
    "response"
   ]
  },
  {
   "cell_type": "code",
   "execution_count": 10,
   "id": "4f23c0ad",
   "metadata": {},
   "outputs": [],
   "source": [
    "## Convert to beautiful soup\n",
    "def mk_soup(response):\n",
    "    '''\n",
    "    Make soup\n",
    "    '''\n",
    "    return BeautifulSoup(response.text, \"html.parser\")"
   ]
  },
  {
   "cell_type": "code",
   "execution_count": 11,
   "id": "b0f91ea0",
   "metadata": {},
   "outputs": [],
   "source": [
    "## create scraper function\n",
    "def scraper(url):\n",
    "    '''\n",
    "    enter url to return soup\n",
    "    '''\n",
    "    return mk_soup (mk_request(url))"
   ]
  },
  {
   "cell_type": "code",
   "execution_count": 28,
   "id": "b0ddbc43",
   "metadata": {},
   "outputs": [
    {
     "data": {
      "text/plain": [
       "<html lang=\"en\">\n",
       "<head>\n",
       "<!-- Makes the page responsive and scaled to be read easily -->\n",
       "<meta content=\"width=device-width, initial-scale=1\" name=\"viewport\"/>\n",
       "<!-- Links to stylesheet -->\n",
       "<link href=\"style.css\" rel=\"stylesheet\" type=\"text/css\"/>\n",
       "<!-- Remember to update page title -->\n",
       "<title>List of Documents</title>\n",
       "</head>\n",
       "<body>\n",
       "<!-- All content goes here -->\n",
       "<div class=\"container\">\n",
       "<h1>Documents to Download</h1>\n",
       "<li>Junk Li <a href=\"\">tag 1</a></li>\n",
       "<li>Junk Li <a href=\"\">tag 2</a></li>\n",
       "<ul class=\"txts downloadable\">\n",
       "<p class=\"pages\">Download this first set of text documents</p>\n",
       "<li>Text Document <a href=\"files/text_doc_01.txt\">1</a> </li>\n",
       "<li>Text Document <a href=\"files/text_doc_02.txt\">2</a></li>\n",
       "<li>Text Document <a href=\"files/text_doc_03.txt\">3</a></li>\n",
       "<li>Text Document <a href=\"files/text_doc_04.txt\">4</a></li>\n",
       "<li>Text Document <a href=\"files/text_doc_05.txt\">5</a></li>\n",
       "<li>Text Document <a href=\"files/text_doc_06.txt\">6</a></li>\n",
       "<li>Text Document <a href=\"files/text_doc_07.txt\">7</a></li>\n",
       "<li>Text Document <a href=\"files/text_doc_08.txt\">8</a></li>\n",
       "<li>Text Document <a href=\"files/text_doc_09.txt\">9</a></li>\n",
       "<li>Text Document <a href=\"files/text_doc_10.txt\">10</a></li>\n",
       "</ul>\n",
       "<li>Junk Li <a href=\"\">tag 3</a></li>\n",
       "<li>Junk Li <a href=\"\">tag 4</a></li>\n",
       "<ul class=\"pdfs downloadable\">\n",
       "<p class=\"pages\">Download this list of PDFs</p>\n",
       "<li>PDF Document <a href=\"files/pdf_1.pdf\">1</a> </li>\n",
       "<li>PDF Document <a href=\"files/pdf_2.pdf\">2</a></li>\n",
       "<li>PDF Document <a href=\"files/pdf_3.pdf\">3</a></li>\n",
       "<li>PDF Document <a href=\"files/pdf_4.pdf\">4</a></li>\n",
       "<li>PDF Document <a href=\"files/pdf_5.pdf\">5</a></li>\n",
       "<li>PDF Document <a href=\"files/pdf_6.pdf\">6</a></li>\n",
       "<li>PDF Document <a href=\"files/pdf_7.pdf\">7</a></li>\n",
       "<li>PDF Document <a href=\"files/pdf_8.pdf\">8</a></li>\n",
       "<li>PDF Document <a href=\"files/pdf_9.pdf\">9</a></li>\n",
       "<li>PDF Document <a href=\"files/pdf_10.pdf\">10</a></li>\n",
       "</ul>\n",
       "<li>Junk Li <a href=\"\">tag 5</a></li>\n",
       "<li>Junk Li <a href=\"\">tag 6</a></li>\n",
       "<ul class=\"txts downloadable\">\n",
       "<p class=\"pages\">Download this second set of text documents</p>\n",
       "<li>Text Document <a href=\"files/text_doc_A.txt\">1</a> </li>\n",
       "<li>Text Document <a href=\"files/text_doc_B.txt\">2</a></li>\n",
       "<li>Text Document <a href=\"files/text_doc_C.txt\">3</a></li>\n",
       "<li>Text Document <a href=\"files/text_doc_D.txt\">4</a></li>\n",
       "<li>Text Document <a href=\"files/text_doc_E.txt\">5</a></li>\n",
       "<li>Text Document <a href=\"files/text_doc_F.txt\">6</a></li>\n",
       "<li>Text Document <a href=\"files/text_doc_G.txt\">7</a></li>\n",
       "<li>Text Document <a href=\"files/text_doc_H.txt\">8</a></li>\n",
       "<li>Text Document <a href=\"files/text_doc_I.txt\">9</a></li>\n",
       "<li>Text Document <a href=\"files/text_doc_J.txt\">10</a></li>\n",
       "</ul>\n",
       "</div>\n",
       "</body>\n",
       "</html>"
      ]
     },
     "execution_count": 28,
     "metadata": {},
     "output_type": "execute_result"
    }
   ],
   "source": [
    "## scrape code\n",
    "\n",
    "soup = scraper(url)\n",
    "soup"
   ]
  },
  {
   "cell_type": "code",
   "execution_count": 30,
   "id": "87b69cad",
   "metadata": {},
   "outputs": [
    {
     "data": {
      "text/plain": [
       "<html lang=\"en\">\n",
       "<head>\n",
       "<!-- Makes the page responsive and scaled to be read easily -->\n",
       "<meta content=\"width=device-width, initial-scale=1\" name=\"viewport\"/>\n",
       "<!-- Links to stylesheet -->\n",
       "<link href=\"style.css\" rel=\"stylesheet\" type=\"text/css\"/>\n",
       "<!-- Remember to update page title -->\n",
       "<title>List of Documents</title>\n",
       "</head>\n",
       "<body>\n",
       "<!-- All content goes here -->\n",
       "<div class=\"container\">\n",
       "<h1>Documents to Download</h1>\n",
       "<li>Junk Li <a href=\"\">tag 1</a></li>\n",
       "<li>Junk Li <a href=\"\">tag 2</a></li>\n",
       "<ul class=\"txts downloadable\">\n",
       "<p class=\"pages\">Download this first set of text documents</p>\n",
       "<li>Text Document <a href=\"files/text_doc_01.txt\">1</a> </li>\n",
       "<li>Text Document <a href=\"files/text_doc_02.txt\">2</a></li>\n",
       "<li>Text Document <a href=\"files/text_doc_03.txt\">3</a></li>\n",
       "<li>Text Document <a href=\"files/text_doc_04.txt\">4</a></li>\n",
       "<li>Text Document <a href=\"files/text_doc_05.txt\">5</a></li>\n",
       "<li>Text Document <a href=\"files/text_doc_06.txt\">6</a></li>\n",
       "<li>Text Document <a href=\"files/text_doc_07.txt\">7</a></li>\n",
       "<li>Text Document <a href=\"files/text_doc_08.txt\">8</a></li>\n",
       "<li>Text Document <a href=\"files/text_doc_09.txt\">9</a></li>\n",
       "<li>Text Document <a href=\"files/text_doc_10.txt\">10</a></li>\n",
       "</ul>\n",
       "<li>Junk Li <a href=\"\">tag 3</a></li>\n",
       "<li>Junk Li <a href=\"\">tag 4</a></li>\n",
       "<ul class=\"pdfs downloadable\">\n",
       "<p class=\"pages\">Download this list of PDFs</p>\n",
       "<li>PDF Document <a href=\"files/pdf_1.pdf\">1</a> </li>\n",
       "<li>PDF Document <a href=\"files/pdf_2.pdf\">2</a></li>\n",
       "<li>PDF Document <a href=\"files/pdf_3.pdf\">3</a></li>\n",
       "<li>PDF Document <a href=\"files/pdf_4.pdf\">4</a></li>\n",
       "<li>PDF Document <a href=\"files/pdf_5.pdf\">5</a></li>\n",
       "<li>PDF Document <a href=\"files/pdf_6.pdf\">6</a></li>\n",
       "<li>PDF Document <a href=\"files/pdf_7.pdf\">7</a></li>\n",
       "<li>PDF Document <a href=\"files/pdf_8.pdf\">8</a></li>\n",
       "<li>PDF Document <a href=\"files/pdf_9.pdf\">9</a></li>\n",
       "<li>PDF Document <a href=\"files/pdf_10.pdf\">10</a></li>\n",
       "</ul>\n",
       "<li>Junk Li <a href=\"\">tag 5</a></li>\n",
       "<li>Junk Li <a href=\"\">tag 6</a></li>\n",
       "<ul class=\"txts downloadable\">\n",
       "<p class=\"pages\">Download this second set of text documents</p>\n",
       "<li>Text Document <a href=\"files/text_doc_A.txt\">1</a> </li>\n",
       "<li>Text Document <a href=\"files/text_doc_B.txt\">2</a></li>\n",
       "<li>Text Document <a href=\"files/text_doc_C.txt\">3</a></li>\n",
       "<li>Text Document <a href=\"files/text_doc_D.txt\">4</a></li>\n",
       "<li>Text Document <a href=\"files/text_doc_E.txt\">5</a></li>\n",
       "<li>Text Document <a href=\"files/text_doc_F.txt\">6</a></li>\n",
       "<li>Text Document <a href=\"files/text_doc_G.txt\">7</a></li>\n",
       "<li>Text Document <a href=\"files/text_doc_H.txt\">8</a></li>\n",
       "<li>Text Document <a href=\"files/text_doc_I.txt\">9</a></li>\n",
       "<li>Text Document <a href=\"files/text_doc_J.txt\">10</a></li>\n",
       "</ul>\n",
       "</div>\n",
       "</body>\n",
       "</html>"
      ]
     },
     "execution_count": 30,
     "metadata": {},
     "output_type": "execute_result"
    }
   ],
   "source": [
    "## Call function\n",
    "soup = mk_soup(response)\n",
    "soup"
   ]
  },
  {
   "cell_type": "code",
   "execution_count": 32,
   "id": "884a7379",
   "metadata": {},
   "outputs": [
    {
     "data": {
      "text/plain": [
       "[<a href=\"files/pdf_1.pdf\">1</a>,\n",
       " <a href=\"files/pdf_2.pdf\">2</a>,\n",
       " <a href=\"files/pdf_3.pdf\">3</a>,\n",
       " <a href=\"files/pdf_4.pdf\">4</a>,\n",
       " <a href=\"files/pdf_5.pdf\">5</a>,\n",
       " <a href=\"files/pdf_6.pdf\">6</a>,\n",
       " <a href=\"files/pdf_7.pdf\">7</a>,\n",
       " <a href=\"files/pdf_8.pdf\">8</a>,\n",
       " <a href=\"files/pdf_9.pdf\">9</a>,\n",
       " <a href=\"files/pdf_10.pdf\">10</a>]"
      ]
     },
     "execution_count": 32,
     "metadata": {},
     "output_type": "execute_result"
    }
   ],
   "source": [
    "## separate tags\n",
    "aTags = soup.find(\"ul\", class_=\"pdfs\").find_all(\"a\")\n",
    "aTags"
   ]
  },
  {
   "cell_type": "code",
   "execution_count": 33,
   "id": "324feacb",
   "metadata": {},
   "outputs": [
    {
     "data": {
      "text/plain": [
       "bs4.element.ResultSet"
      ]
     },
     "execution_count": 33,
     "metadata": {},
     "output_type": "execute_result"
    }
   ],
   "source": [
    "type(aTags)"
   ]
  },
  {
   "cell_type": "code",
   "execution_count": 38,
   "id": "c327935c",
   "metadata": {},
   "outputs": [],
   "source": [
    "## create base url variable\n",
    "base_url = \"https://sandeepmj.github.io/scrape-example-page/\""
   ]
  },
  {
   "cell_type": "code",
   "execution_count": 39,
   "id": "be93c211",
   "metadata": {},
   "outputs": [
    {
     "data": {
      "text/plain": [
       "['https://sandeepmj.github.io/scrape-example-page/files/pdf_1.pdf',\n",
       " 'https://sandeepmj.github.io/scrape-example-page/files/pdf_2.pdf',\n",
       " 'https://sandeepmj.github.io/scrape-example-page/files/pdf_3.pdf',\n",
       " 'https://sandeepmj.github.io/scrape-example-page/files/pdf_4.pdf',\n",
       " 'https://sandeepmj.github.io/scrape-example-page/files/pdf_5.pdf',\n",
       " 'https://sandeepmj.github.io/scrape-example-page/files/pdf_6.pdf',\n",
       " 'https://sandeepmj.github.io/scrape-example-page/files/pdf_7.pdf',\n",
       " 'https://sandeepmj.github.io/scrape-example-page/files/pdf_8.pdf',\n",
       " 'https://sandeepmj.github.io/scrape-example-page/files/pdf_9.pdf',\n",
       " 'https://sandeepmj.github.io/scrape-example-page/files/pdf_10.pdf']"
      ]
     },
     "execution_count": 39,
     "metadata": {},
     "output_type": "execute_result"
    }
   ],
   "source": [
    "links = [base_url + atag.get(\"href\") for atag in aTags]\n",
    "links"
   ]
  },
  {
   "cell_type": "code",
   "execution_count": 40,
   "id": "c6cd7573",
   "metadata": {},
   "outputs": [
    {
     "name": "stdout",
     "output_type": "stream",
     "text": [
      "Requirement already satisfied: wget in /Users/eduardogonzalez/opt/anaconda3/lib/python3.9/site-packages (3.2)\n",
      "Note: you may need to restart the kernel to use updated packages.\n"
     ]
    }
   ],
   "source": [
    "pip install wget"
   ]
  },
  {
   "cell_type": "code",
   "execution_count": 41,
   "id": "75f12045",
   "metadata": {},
   "outputs": [],
   "source": [
    "import wget"
   ]
  },
  {
   "cell_type": "code",
   "execution_count": 43,
   "id": "4feb3707",
   "metadata": {},
   "outputs": [],
   "source": [
    "## create snoozer function\n",
    "def snoozer(start_range, end_range):\n",
    "    snooze_time = randrange(start_range, end_range)\n",
    "    print(f\"\\n Snoozing for {snooze_time} seconds\")\n",
    "    return time.sleep(snooze_time)"
   ]
  },
  {
   "cell_type": "code",
   "execution_count": null,
   "id": "7b7b8924",
   "metadata": {},
   "outputs": [],
   "source": []
  },
  {
   "cell_type": "code",
   "execution_count": 45,
   "id": "a0f130bb",
   "metadata": {},
   "outputs": [
    {
     "name": "stdout",
     "output_type": "stream",
     "text": [
      "Downloading link 1 of10\n",
      "100% [..........................................................] 12812 / 12812\n",
      " Snoozing for 17 seconds\n",
      "Downloading link 2 of10\n",
      "100% [..........................................................] 12897 / 12897\n",
      " Snoozing for 13 seconds\n",
      "Downloading link 3 of10\n",
      "100% [..........................................................] 12908 / 12908\n",
      " Snoozing for 13 seconds\n",
      "Downloading link 4 of10\n",
      "100% [..........................................................] 12843 / 12843\n",
      " Snoozing for 17 seconds\n",
      "Downloading link 5 of10\n",
      "100% [..........................................................] 12881 / 12881\n",
      " Snoozing for 20 seconds\n",
      "Downloading link 6 of10\n",
      "100% [..........................................................] 12906 / 12906\n",
      " Snoozing for 10 seconds\n",
      "Downloading link 7 of10\n",
      "100% [..........................................................] 12816 / 12816\n",
      " Snoozing for 13 seconds\n",
      "Downloading link 8 of10\n",
      "100% [..........................................................] 12921 / 12921\n",
      " Snoozing for 18 seconds\n",
      "Downloading link 9 of10\n",
      "100% [..........................................................] 12901 / 12901\n",
      " Snoozing for 13 seconds\n",
      "Downloading link 10 of10\n",
      "100% [..........................................................] 13049 / 13049\n",
      " Snoozing for 14 seconds\n"
     ]
    }
   ],
   "source": [
    "## download pdf\n",
    "link_count = 1\n",
    "start_range, end_range = 10, 21\n",
    "for link in links:\n",
    "    print(f\"Downloading link {link_count} of{len(links)}\")\n",
    "    link_count += 1\n",
    "    wget.download(link)\n",
    "    snoozer(start_range, end_range)"
   ]
  },
  {
   "cell_type": "markdown",
   "id": "cc37c3dc",
   "metadata": {},
   "source": [
    "# 2. Demo downloading ALL files from websites \n",
    "\n",
    "There are ```txt``` and ```pdf``` files on:\n",
    "\n",
    "```https://sandeepmj.github.io/scrape-example-page/pages.html```\n",
    "\n",
    "Do the following:\n",
    "\n",
    "1. Download all  files."
   ]
  },
  {
   "cell_type": "code",
   "execution_count": 48,
   "id": "d786775f",
   "metadata": {},
   "outputs": [
    {
     "data": {
      "text/plain": [
       "[<a href=\"\">tag 1</a>,\n",
       " <a href=\"\">tag 2</a>,\n",
       " <a href=\"files/text_doc_01.txt\">1</a>,\n",
       " <a href=\"files/text_doc_02.txt\">2</a>,\n",
       " <a href=\"files/text_doc_03.txt\">3</a>,\n",
       " <a href=\"files/text_doc_04.txt\">4</a>,\n",
       " <a href=\"files/text_doc_05.txt\">5</a>,\n",
       " <a href=\"files/text_doc_06.txt\">6</a>,\n",
       " <a href=\"files/text_doc_07.txt\">7</a>,\n",
       " <a href=\"files/text_doc_08.txt\">8</a>,\n",
       " <a href=\"files/text_doc_09.txt\">9</a>,\n",
       " <a href=\"files/text_doc_10.txt\">10</a>,\n",
       " <a href=\"\">tag 3</a>,\n",
       " <a href=\"\">tag 4</a>,\n",
       " <a href=\"files/pdf_1.pdf\">1</a>,\n",
       " <a href=\"files/pdf_2.pdf\">2</a>,\n",
       " <a href=\"files/pdf_3.pdf\">3</a>,\n",
       " <a href=\"files/pdf_4.pdf\">4</a>,\n",
       " <a href=\"files/pdf_5.pdf\">5</a>,\n",
       " <a href=\"files/pdf_6.pdf\">6</a>,\n",
       " <a href=\"files/pdf_7.pdf\">7</a>,\n",
       " <a href=\"files/pdf_8.pdf\">8</a>,\n",
       " <a href=\"files/pdf_9.pdf\">9</a>,\n",
       " <a href=\"files/pdf_10.pdf\">10</a>,\n",
       " <a href=\"\">tag 5</a>,\n",
       " <a href=\"\">tag 6</a>,\n",
       " <a href=\"files/text_doc_A.txt\">1</a>,\n",
       " <a href=\"files/text_doc_B.txt\">2</a>,\n",
       " <a href=\"files/text_doc_C.txt\">3</a>,\n",
       " <a href=\"files/text_doc_D.txt\">4</a>,\n",
       " <a href=\"files/text_doc_E.txt\">5</a>,\n",
       " <a href=\"files/text_doc_F.txt\">6</a>,\n",
       " <a href=\"files/text_doc_G.txt\">7</a>,\n",
       " <a href=\"files/text_doc_H.txt\">8</a>,\n",
       " <a href=\"files/text_doc_I.txt\">9</a>,\n",
       " <a href=\"files/text_doc_J.txt\">10</a>]"
      ]
     },
     "execution_count": 48,
     "metadata": {},
     "output_type": "execute_result"
    }
   ],
   "source": [
    "## create cells here AS needed\n",
    "## Find all documentes into div\n",
    "allTags = soup.find(\"div\").find_all(\"a\")\n",
    "allTags"
   ]
  },
  {
   "cell_type": "code",
   "execution_count": 50,
   "id": "5e5bc65a",
   "metadata": {},
   "outputs": [
    {
     "data": {
      "text/plain": [
       "['https://sandeepmj.github.io/scrape-example-page/',\n",
       " 'https://sandeepmj.github.io/scrape-example-page/',\n",
       " 'https://sandeepmj.github.io/scrape-example-page/files/text_doc_01.txt',\n",
       " 'https://sandeepmj.github.io/scrape-example-page/files/text_doc_02.txt',\n",
       " 'https://sandeepmj.github.io/scrape-example-page/files/text_doc_03.txt',\n",
       " 'https://sandeepmj.github.io/scrape-example-page/files/text_doc_04.txt',\n",
       " 'https://sandeepmj.github.io/scrape-example-page/files/text_doc_05.txt',\n",
       " 'https://sandeepmj.github.io/scrape-example-page/files/text_doc_06.txt',\n",
       " 'https://sandeepmj.github.io/scrape-example-page/files/text_doc_07.txt',\n",
       " 'https://sandeepmj.github.io/scrape-example-page/files/text_doc_08.txt',\n",
       " 'https://sandeepmj.github.io/scrape-example-page/files/text_doc_09.txt',\n",
       " 'https://sandeepmj.github.io/scrape-example-page/files/text_doc_10.txt',\n",
       " 'https://sandeepmj.github.io/scrape-example-page/',\n",
       " 'https://sandeepmj.github.io/scrape-example-page/',\n",
       " 'https://sandeepmj.github.io/scrape-example-page/files/pdf_1.pdf',\n",
       " 'https://sandeepmj.github.io/scrape-example-page/files/pdf_2.pdf',\n",
       " 'https://sandeepmj.github.io/scrape-example-page/files/pdf_3.pdf',\n",
       " 'https://sandeepmj.github.io/scrape-example-page/files/pdf_4.pdf',\n",
       " 'https://sandeepmj.github.io/scrape-example-page/files/pdf_5.pdf',\n",
       " 'https://sandeepmj.github.io/scrape-example-page/files/pdf_6.pdf',\n",
       " 'https://sandeepmj.github.io/scrape-example-page/files/pdf_7.pdf',\n",
       " 'https://sandeepmj.github.io/scrape-example-page/files/pdf_8.pdf',\n",
       " 'https://sandeepmj.github.io/scrape-example-page/files/pdf_9.pdf',\n",
       " 'https://sandeepmj.github.io/scrape-example-page/files/pdf_10.pdf',\n",
       " 'https://sandeepmj.github.io/scrape-example-page/',\n",
       " 'https://sandeepmj.github.io/scrape-example-page/',\n",
       " 'https://sandeepmj.github.io/scrape-example-page/files/text_doc_A.txt',\n",
       " 'https://sandeepmj.github.io/scrape-example-page/files/text_doc_B.txt',\n",
       " 'https://sandeepmj.github.io/scrape-example-page/files/text_doc_C.txt',\n",
       " 'https://sandeepmj.github.io/scrape-example-page/files/text_doc_D.txt',\n",
       " 'https://sandeepmj.github.io/scrape-example-page/files/text_doc_E.txt',\n",
       " 'https://sandeepmj.github.io/scrape-example-page/files/text_doc_F.txt',\n",
       " 'https://sandeepmj.github.io/scrape-example-page/files/text_doc_G.txt',\n",
       " 'https://sandeepmj.github.io/scrape-example-page/files/text_doc_H.txt',\n",
       " 'https://sandeepmj.github.io/scrape-example-page/files/text_doc_I.txt',\n",
       " 'https://sandeepmj.github.io/scrape-example-page/files/text_doc_J.txt']"
      ]
     },
     "execution_count": 50,
     "metadata": {},
     "output_type": "execute_result"
    }
   ],
   "source": [
    "## add base url\n",
    "alllinks = [base_url + atag.get(\"href\") for atag in aTags]\n",
    "alllinks"
   ]
  },
  {
   "cell_type": "code",
   "execution_count": 51,
   "id": "f6e8b803",
   "metadata": {},
   "outputs": [
    {
     "name": "stdout",
     "output_type": "stream",
     "text": [
      "Downloading link 1 of36\n",
      "100% [........................................................] 660183 / 660183\n",
      " Snoozing for 4 seconds\n",
      "Downloading link 2 of36\n",
      "100% [........................................................] 660183 / 660183\n",
      " Snoozing for 5 seconds\n",
      "Downloading link 3 of36\n",
      "100% [................................................................] 76 / 76\n",
      " Snoozing for 4 seconds\n",
      "Downloading link 4 of36\n",
      "100% [................................................................] 66 / 66\n",
      " Snoozing for 6 seconds\n",
      "Downloading link 5 of36\n",
      "100% [................................................................] 70 / 70\n",
      " Snoozing for 6 seconds\n",
      "Downloading link 6 of36\n",
      "100% [................................................................] 63 / 63\n",
      " Snoozing for 7 seconds\n",
      "Downloading link 7 of36\n",
      "100% [................................................................] 66 / 66\n",
      " Snoozing for 5 seconds\n",
      "Downloading link 8 of36\n",
      "100% [................................................................] 66 / 66\n",
      " Snoozing for 4 seconds\n",
      "Downloading link 9 of36\n",
      "100% [................................................................] 69 / 69\n",
      " Snoozing for 5 seconds\n",
      "Downloading link 10 of36\n",
      "100% [................................................................] 65 / 65\n",
      " Snoozing for 5 seconds\n",
      "Downloading link 11 of36\n",
      "100% [................................................................] 66 / 66\n",
      " Snoozing for 6 seconds\n",
      "Downloading link 12 of36\n",
      "100% [................................................................] 60 / 60\n",
      " Snoozing for 7 seconds\n",
      "Downloading link 13 of36\n",
      "100% [........................................................] 660183 / 660183\n",
      " Snoozing for 4 seconds\n",
      "Downloading link 14 of36\n",
      "100% [........................................................] 660183 / 660183\n",
      " Snoozing for 6 seconds\n",
      "Downloading link 15 of36\n",
      "100% [..........................................................] 12812 / 12812\n",
      " Snoozing for 7 seconds\n",
      "Downloading link 16 of36\n",
      "100% [..........................................................] 12897 / 12897\n",
      " Snoozing for 6 seconds\n",
      "Downloading link 17 of36\n",
      "100% [..........................................................] 12908 / 12908\n",
      " Snoozing for 6 seconds\n",
      "Downloading link 18 of36\n",
      "100% [..........................................................] 12843 / 12843\n",
      " Snoozing for 5 seconds\n",
      "Downloading link 19 of36\n",
      "100% [..........................................................] 12881 / 12881\n",
      " Snoozing for 7 seconds\n",
      "Downloading link 20 of36\n",
      "100% [..........................................................] 12906 / 12906\n",
      " Snoozing for 6 seconds\n",
      "Downloading link 21 of36\n",
      "100% [..........................................................] 12816 / 12816\n",
      " Snoozing for 4 seconds\n",
      "Downloading link 22 of36\n",
      "100% [..........................................................] 12921 / 12921\n",
      " Snoozing for 6 seconds\n",
      "Downloading link 23 of36\n",
      "100% [..........................................................] 12901 / 12901\n",
      " Snoozing for 4 seconds\n",
      "Downloading link 24 of36\n",
      "100% [..........................................................] 13049 / 13049\n",
      " Snoozing for 7 seconds\n",
      "Downloading link 25 of36\n",
      "100% [........................................................] 660183 / 660183\n",
      " Snoozing for 6 seconds\n",
      "Downloading link 26 of36\n",
      "100% [........................................................] 660183 / 660183\n",
      " Snoozing for 5 seconds\n",
      "Downloading link 27 of36\n",
      "100% [................................................................] 76 / 76\n",
      " Snoozing for 6 seconds\n",
      "Downloading link 28 of36\n",
      "100% [................................................................] 66 / 66\n",
      " Snoozing for 5 seconds\n",
      "Downloading link 29 of36\n",
      "100% [................................................................] 70 / 70\n",
      " Snoozing for 5 seconds\n",
      "Downloading link 30 of36\n",
      "100% [................................................................] 63 / 63\n",
      " Snoozing for 6 seconds\n",
      "Downloading link 31 of36\n",
      "100% [................................................................] 66 / 66\n",
      " Snoozing for 7 seconds\n",
      "Downloading link 32 of36\n",
      "100% [................................................................] 66 / 66\n",
      " Snoozing for 4 seconds\n",
      "Downloading link 33 of36\n",
      "100% [................................................................] 69 / 69\n",
      " Snoozing for 6 seconds\n",
      "Downloading link 34 of36\n",
      "100% [................................................................] 65 / 65\n",
      " Snoozing for 4 seconds\n",
      "Downloading link 35 of36\n",
      "100% [................................................................] 66 / 66\n",
      " Snoozing for 7 seconds\n",
      "Downloading link 36 of36\n",
      "100% [................................................................] 60 / 60\n",
      " Snoozing for 7 seconds\n"
     ]
    }
   ],
   "source": [
    "##download all links\n",
    "alllink_count = 1\n",
    "start_range, end_range = 4, 8\n",
    "for link in alllinks:\n",
    "    print(f\"Downloading link {alllink_count} of{len(alllinks)}\")\n",
    "    alllink_count += 1\n",
    "    wget.download(link)\n",
    "    snoozer(start_range, end_range)"
   ]
  },
  {
   "cell_type": "markdown",
   "id": "0c9faeae",
   "metadata": {},
   "source": [
    "# 3. Conversion function\n",
    "\n",
    "\n",
    "Write a function that takes string values like ```$12.24```, ```10,201.7654``` and ```$12,501``` and converts them into floating point numbers like ```12.24```, ```10201.77``` and ```12501.0```\n",
    "\n",
    "Test it out on those 3 string values."
   ]
  },
  {
   "cell_type": "code",
   "execution_count": 94,
   "id": "ca97e315",
   "metadata": {},
   "outputs": [],
   "source": [
    "## write function here\n",
    "def strToFN(str_):\n",
    "    '''\n",
    "    This funtion can clean the sings\n",
    "    and commas from your str values\n",
    "    and then converted into floating points\n",
    "    '''\n",
    "    str_clean = str_.replace(',', '').replace('$', '')\n",
    "    try:\n",
    "        float_number = float(str_clean)\n",
    "        return float_number\n",
    "    except ValueError:\n",
    "        print(f\"{input_str} is not a valid floating-point number\")\n",
    "        return None\n",
    "\n",
    "\n",
    "\n"
   ]
  },
  {
   "cell_type": "code",
   "execution_count": 95,
   "id": "0a724a69",
   "metadata": {},
   "outputs": [
    {
     "data": {
      "text/plain": [
       "12.24"
      ]
     },
     "execution_count": 95,
     "metadata": {},
     "output_type": "execute_result"
    }
   ],
   "source": [
    "## call it on \"$12.24\"\n",
    "strToFN(\"$12.24\")"
   ]
  },
  {
   "cell_type": "code",
   "execution_count": 96,
   "id": "1e7ddf1b",
   "metadata": {},
   "outputs": [
    {
     "data": {
      "text/plain": [
       "10201.7654"
      ]
     },
     "execution_count": 96,
     "metadata": {},
     "output_type": "execute_result"
    }
   ],
   "source": [
    "## call it on \"10,201.7654\"\n",
    "strToFN(\"10,201.7654\")"
   ]
  },
  {
   "cell_type": "code",
   "execution_count": 97,
   "id": "564db337",
   "metadata": {},
   "outputs": [
    {
     "data": {
      "text/plain": [
       "12501.0"
      ]
     },
     "execution_count": 97,
     "metadata": {},
     "output_type": "execute_result"
    }
   ],
   "source": [
    "## call it on \"$12,501\"\n",
    "strToFN(\"$12,501\")"
   ]
  }
 ],
 "metadata": {
  "kernelspec": {
   "display_name": "Python 3 (ipykernel)",
   "language": "python",
   "name": "python3"
  },
  "language_info": {
   "codemirror_mode": {
    "name": "ipython",
    "version": 3
   },
   "file_extension": ".py",
   "mimetype": "text/x-python",
   "name": "python",
   "nbconvert_exporter": "python",
   "pygments_lexer": "ipython3",
   "version": "3.9.13"
  }
 },
 "nbformat": 4,
 "nbformat_minor": 5
}
