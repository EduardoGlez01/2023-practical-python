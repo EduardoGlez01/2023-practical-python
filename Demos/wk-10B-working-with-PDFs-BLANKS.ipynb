{
 "cells": [
  {
   "cell_type": "markdown",
   "metadata": {
    "id": "9FUirTb9HvpN"
   },
   "source": [
    "# Tables scattered in PDFs\n",
    "\n",
    "As it is, PDFs are notoriously obnoxious. They are designed so people can't change them easily.\n",
    "\n",
    "PDFs that hold tables are pretty much the worst.\n",
    "\n",
    "We want to <a href=\"https://drive.google.com/file/d/1aeRaTL1G3rCfAiQIGo3ZlWc1YnE4pr8H/view?usp=share_link\">scrape data from digital PDFs</a>.\n",
    "\n",
    "You might have worked with the <a href=\"https://tabula.technology/\">Tabula GUI</a> to extract tables from PDFs. But there's a lot of manual work involved. \n",
    "\n",
    "To automate the process, we'll use the **Tabula Python Library**.\n",
    "\n",
    "### There's NO satisfaction guarantee, but at least it's a way to try to tackle PDFs with tables."
   ]
  },
  {
   "cell_type": "markdown",
   "metadata": {
    "id": "Lxf2wkM4IGEV"
   },
   "source": [
    "## THE SETUP"
   ]
  },
  {
   "cell_type": "code",
   "execution_count": 1,
   "metadata": {
    "id": "MFmiQ5H3HlEQ"
   },
   "outputs": [],
   "source": [
    "## !pip install tabula-py.\n",
    "## it is not part of the standard Colab library"
   ]
  },
  {
   "cell_type": "code",
   "execution_count": 3,
   "metadata": {
    "id": "wksiWLl8EEQk"
   },
   "outputs": [
    {
     "name": "stdout",
     "output_type": "stream",
     "text": [
      "Note: you may need to restart the kernel to use updated packages.\n"
     ]
    }
   ],
   "source": [
    "pip install -q tabula-py"
   ]
  },
  {
   "cell_type": "code",
   "execution_count": 4,
   "metadata": {
    "id": "6CBHdtwFrEwE"
   },
   "outputs": [
    {
     "name": "stdout",
     "output_type": "stream",
     "text": [
      "Requirement already satisfied: install-jdk in /Users/eduardogonzalez/opt/anaconda3/lib/python3.9/site-packages (1.1.0)\n",
      "Note: you may need to restart the kernel to use updated packages.\n"
     ]
    }
   ],
   "source": [
    "pip install install-jdk"
   ]
  },
  {
   "cell_type": "code",
   "execution_count": 5,
   "metadata": {
    "id": "hZyCzxEMH_Rn"
   },
   "outputs": [
    {
     "name": "stdout",
     "output_type": "stream",
     "text": [
      "Python version:\n",
      "    3.9.13 (main, Aug 25 2022, 18:29:29) \n",
      "[Clang 12.0.0 ]\n",
      "Java version:\n",
      "    java version \"21.0.1\" 2023-10-17 LTS\n",
      "Java(TM) SE Runtime Environment (build 21.0.1+12-LTS-29)\n",
      "Java HotSpot(TM) 64-Bit Server VM (build 21.0.1+12-LTS-29, mixed mode, sharing)\n",
      "tabula-py version: 2.8.2\n",
      "platform: macOS-10.16-x86_64-i386-64bit\n",
      "uname:\n",
      "    uname_result(system='Darwin', node='MacBook-Pro-de-EDUARDO.local', release='21.6.0', version='Darwin Kernel Version 21.6.0: Mon Dec 19 20:44:01 PST 2022; root:xnu-8020.240.18~2/RELEASE_X86_64', machine='x86_64')\n",
      "linux_distribution: ('Darwin', '21.6.0', '')\n",
      "mac_ver: ('10.16', ('', '', ''), 'x86_64')\n"
     ]
    }
   ],
   "source": [
    "## import tabula\n",
    "## check it's versioning\n",
    "import tabula\n",
    "tabula.environment_info() ## not need always"
   ]
  },
  {
   "cell_type": "markdown",
   "metadata": {},
   "source": [
    "For other people getting the JDK error within jupyter nb, this resolved it for me. I installed the latest version of Oracle’s Java JDK. For those with an M1 machine, the appropriate one is the ARM file under the MacOS tab; for those with intel, it’s the x64.\n",
    "https://www.oracle.com/java/technologies/downloads/#jdk17-mac"
   ]
  },
  {
   "cell_type": "code",
   "execution_count": 6,
   "metadata": {
    "id": "9M3P2qPBH_YJ"
   },
   "outputs": [],
   "source": [
    "## import some libraries we need\n",
    "import pandas as pd ## pandas to work with data\n"
   ]
  },
  {
   "cell_type": "code",
   "execution_count": 7,
   "metadata": {
    "id": "G0F6thFoH_CV"
   },
   "outputs": [
    {
     "name": "stderr",
     "output_type": "stream",
     "text": [
      "'pages' argument isn't specified.Will extract only from page 1 by default.\n"
     ]
    },
    {
     "data": {
      "text/plain": [
       "[   Fringe Benefit Expenses (in millions) Fiscal 2019 Fiscal 2020  \\\n",
       " 0                       Health Insurance      $6,268      $7,173   \n",
       " 1                        Social Security      $2,161      $2,224   \n",
       " 2          Supplemental Welfare Benefits      $1,259      $1,333   \n",
       " 3                  Worker's Compensation        $343        $369   \n",
       " 4                  Annuity Contributions        $117        $120   \n",
       " 5                 Allowance for Uniforms         $72         $71   \n",
       " 6      Worker's Compensation - Uniformed         $41         $42   \n",
       " 7                 Unemployment Insurance         $36         $38   \n",
       " 8                  Other Fringe Benefits         $12         $12   \n",
       " 9               Faculty Welfare Benefits         $33         $10   \n",
       " 10                  Disability Insurance          $1          $1   \n",
       " 11                                Total*     $10,642     $11,394   \n",
       " \n",
       "    Percent Change  \n",
       " 0             14%  \n",
       " 1              3%  \n",
       " 2              6%  \n",
       " 3              8%  \n",
       " 4              3%  \n",
       " 5             -1%  \n",
       " 6              4%  \n",
       " 7              3%  \n",
       " 8             -3%  \n",
       " 9            -69%  \n",
       " 10             0%  \n",
       " 11             7%  ]"
      ]
     },
     "execution_count": 7,
     "metadata": {},
     "output_type": "execute_result"
    }
   ],
   "source": [
    "## Let's pull in our first pdf with a single page, single table\n",
    "pdf1 = \"pdf_samples/mockup1.pdf\"\n",
    "table1 = tabula.read_pdf(pdf1)\n",
    "table1"
   ]
  },
  {
   "cell_type": "code",
   "execution_count": 8,
   "metadata": {
    "id": "P6yphHDEr2wg"
   },
   "outputs": [
    {
     "data": {
      "text/plain": [
       "list"
      ]
     },
     "execution_count": 8,
     "metadata": {},
     "output_type": "execute_result"
    }
   ],
   "source": [
    "## WHAT TYPE OF DATA?\n",
    "type(table1)"
   ]
  },
  {
   "cell_type": "code",
   "execution_count": null,
   "metadata": {},
   "outputs": [],
   "source": []
  },
  {
   "cell_type": "code",
   "execution_count": 9,
   "metadata": {
    "id": "yciinnKnsCzQ"
   },
   "outputs": [
    {
     "data": {
      "text/html": [
       "<div>\n",
       "<style scoped>\n",
       "    .dataframe tbody tr th:only-of-type {\n",
       "        vertical-align: middle;\n",
       "    }\n",
       "\n",
       "    .dataframe tbody tr th {\n",
       "        vertical-align: top;\n",
       "    }\n",
       "\n",
       "    .dataframe thead th {\n",
       "        text-align: right;\n",
       "    }\n",
       "</style>\n",
       "<table border=\"1\" class=\"dataframe\">\n",
       "  <thead>\n",
       "    <tr style=\"text-align: right;\">\n",
       "      <th></th>\n",
       "      <th>Fringe Benefit Expenses (in millions)</th>\n",
       "      <th>Fiscal 2019</th>\n",
       "      <th>Fiscal 2020</th>\n",
       "      <th>Percent Change</th>\n",
       "    </tr>\n",
       "  </thead>\n",
       "  <tbody>\n",
       "    <tr>\n",
       "      <th>0</th>\n",
       "      <td>Health Insurance</td>\n",
       "      <td>$6,268</td>\n",
       "      <td>$7,173</td>\n",
       "      <td>14%</td>\n",
       "    </tr>\n",
       "    <tr>\n",
       "      <th>1</th>\n",
       "      <td>Social Security</td>\n",
       "      <td>$2,161</td>\n",
       "      <td>$2,224</td>\n",
       "      <td>3%</td>\n",
       "    </tr>\n",
       "    <tr>\n",
       "      <th>2</th>\n",
       "      <td>Supplemental Welfare Benefits</td>\n",
       "      <td>$1,259</td>\n",
       "      <td>$1,333</td>\n",
       "      <td>6%</td>\n",
       "    </tr>\n",
       "    <tr>\n",
       "      <th>3</th>\n",
       "      <td>Worker's Compensation</td>\n",
       "      <td>$343</td>\n",
       "      <td>$369</td>\n",
       "      <td>8%</td>\n",
       "    </tr>\n",
       "    <tr>\n",
       "      <th>4</th>\n",
       "      <td>Annuity Contributions</td>\n",
       "      <td>$117</td>\n",
       "      <td>$120</td>\n",
       "      <td>3%</td>\n",
       "    </tr>\n",
       "    <tr>\n",
       "      <th>5</th>\n",
       "      <td>Allowance for Uniforms</td>\n",
       "      <td>$72</td>\n",
       "      <td>$71</td>\n",
       "      <td>-1%</td>\n",
       "    </tr>\n",
       "    <tr>\n",
       "      <th>6</th>\n",
       "      <td>Worker's Compensation - Uniformed</td>\n",
       "      <td>$41</td>\n",
       "      <td>$42</td>\n",
       "      <td>4%</td>\n",
       "    </tr>\n",
       "    <tr>\n",
       "      <th>7</th>\n",
       "      <td>Unemployment Insurance</td>\n",
       "      <td>$36</td>\n",
       "      <td>$38</td>\n",
       "      <td>3%</td>\n",
       "    </tr>\n",
       "    <tr>\n",
       "      <th>8</th>\n",
       "      <td>Other Fringe Benefits</td>\n",
       "      <td>$12</td>\n",
       "      <td>$12</td>\n",
       "      <td>-3%</td>\n",
       "    </tr>\n",
       "    <tr>\n",
       "      <th>9</th>\n",
       "      <td>Faculty Welfare Benefits</td>\n",
       "      <td>$33</td>\n",
       "      <td>$10</td>\n",
       "      <td>-69%</td>\n",
       "    </tr>\n",
       "    <tr>\n",
       "      <th>10</th>\n",
       "      <td>Disability Insurance</td>\n",
       "      <td>$1</td>\n",
       "      <td>$1</td>\n",
       "      <td>0%</td>\n",
       "    </tr>\n",
       "    <tr>\n",
       "      <th>11</th>\n",
       "      <td>Total*</td>\n",
       "      <td>$10,642</td>\n",
       "      <td>$11,394</td>\n",
       "      <td>7%</td>\n",
       "    </tr>\n",
       "  </tbody>\n",
       "</table>\n",
       "</div>"
      ],
      "text/plain": [
       "   Fringe Benefit Expenses (in millions) Fiscal 2019 Fiscal 2020  \\\n",
       "0                       Health Insurance      $6,268      $7,173   \n",
       "1                        Social Security      $2,161      $2,224   \n",
       "2          Supplemental Welfare Benefits      $1,259      $1,333   \n",
       "3                  Worker's Compensation        $343        $369   \n",
       "4                  Annuity Contributions        $117        $120   \n",
       "5                 Allowance for Uniforms         $72         $71   \n",
       "6      Worker's Compensation - Uniformed         $41         $42   \n",
       "7                 Unemployment Insurance         $36         $38   \n",
       "8                  Other Fringe Benefits         $12         $12   \n",
       "9               Faculty Welfare Benefits         $33         $10   \n",
       "10                  Disability Insurance          $1          $1   \n",
       "11                                Total*     $10,642     $11,394   \n",
       "\n",
       "   Percent Change  \n",
       "0             14%  \n",
       "1              3%  \n",
       "2              6%  \n",
       "3              8%  \n",
       "4              3%  \n",
       "5             -1%  \n",
       "6              4%  \n",
       "7              3%  \n",
       "8             -3%  \n",
       "9            -69%  \n",
       "10             0%  \n",
       "11             7%  "
      ]
     },
     "execution_count": 9,
     "metadata": {},
     "output_type": "execute_result"
    }
   ],
   "source": [
    "## let's get the first table\n",
    "df = table1[0].copy()\n",
    "df"
   ]
  },
  {
   "cell_type": "code",
   "execution_count": null,
   "metadata": {
    "id": "_1dTc_sDEEQm"
   },
   "outputs": [],
   "source": [
    "## look at it\n"
   ]
  },
  {
   "cell_type": "code",
   "execution_count": 10,
   "metadata": {
    "id": "hUmsX-X5tbM7"
   },
   "outputs": [
    {
     "data": {
      "text/plain": [
       "pandas.core.frame.DataFrame"
      ]
     },
     "execution_count": 10,
     "metadata": {},
     "output_type": "execute_result"
    }
   ],
   "source": [
    "## WHT TYPE OF DATA?\n",
    "type(table1[0])"
   ]
  },
  {
   "cell_type": "code",
   "execution_count": null,
   "metadata": {
    "id": "18Wb3xT3tbQl"
   },
   "outputs": [],
   "source": [
    "## Export and download as CSV file\n"
   ]
  },
  {
   "cell_type": "markdown",
   "metadata": {
    "id": "Zq6ttpEMvnWa"
   },
   "source": [
    "# Multiple pages/ Multiple tables\n"
   ]
  },
  {
   "cell_type": "code",
   "execution_count": 17,
   "metadata": {
    "id": "b6dSksJytbYb",
    "scrolled": true
   },
   "outputs": [
    {
     "name": "stdout",
     "output_type": "stream",
     "text": [
      "[   Fringe Benefit Expenses (in millions) Fiscal 2019 Fiscal 2020  \\\n",
      "0                       Health Insurance      $6,268      $7,173   \n",
      "1                        Social Security      $2,161      $2,224   \n",
      "2          Supplemental Welfare Benefits      $1,259      $1,333   \n",
      "3                  Worker's Compensation        $343        $369   \n",
      "4                  Annuity Contributions        $117        $120   \n",
      "5                 Allowance for Uniforms         $72         $71   \n",
      "6      Worker's Compensation - Uniformed         $41         $42   \n",
      "7                 Unemployment Insurance         $36         $38   \n",
      "8                  Other Fringe Benefits         $12         $12   \n",
      "9               Faculty Welfare Benefits         $33         $10   \n",
      "10                  Disability Insurance          $1          $1   \n",
      "11                                Total*     $10,642     $11,394   \n",
      "\n",
      "   Percent Change  \n",
      "0             14%  \n",
      "1              3%  \n",
      "2              6%  \n",
      "3              8%  \n",
      "4              3%  \n",
      "5             -1%  \n",
      "6              4%  \n",
      "7              3%  \n",
      "8             -3%  \n",
      "9            -69%  \n",
      "10             0%  \n",
      "11             7%  ,                              Unnamed: 0   FY19  FY20  Unnamed: 1  FY21  \\\n",
      "0                         Real Property  ($70)    $0         NaN    $0   \n",
      "1                       Personal Income    284   152         NaN   120   \n",
      "2                   General Corporation     71    71         NaN    67   \n",
      "3               Unincorporated Business    -52  -189         NaN  -133   \n",
      "4                         Sales and Use     18    98         NaN   114   \n",
      "5                       Commercial Rent     11    15         NaN    16   \n",
      "6                Real Property Transfer    -30    45         NaN    44   \n",
      "7                    Mortgage Recording    -24    25         NaN    24   \n",
      "8                               Utility      0     1         NaN     0   \n",
      "9                                 Hotel      5    -9         NaN     1   \n",
      "10                            All Other    -11     0         NaN     0   \n",
      "11  Total Executive 2020 Financial Plan    NaN   NaN         NaN   NaN   \n",
      "12                              Changes   $202  $209         NaN  $253   \n",
      "\n",
      "    Unnamed: 2  FY22  Unnamed: 3  FY23  \n",
      "0          NaN    $0         NaN    $0  \n",
      "1          NaN   122         NaN    87  \n",
      "2          NaN    78         NaN    41  \n",
      "3          NaN  -106         NaN  -110  \n",
      "4          NaN   112         NaN   112  \n",
      "5          NaN    18         NaN    18  \n",
      "6          NaN    48         NaN    45  \n",
      "7          NaN    27         NaN    25  \n",
      "8          NaN     0         NaN     0  \n",
      "9          NaN     0         NaN     7  \n",
      "10         NaN     0         NaN     0  \n",
      "11         NaN   NaN         NaN   NaN  \n",
      "12         NaN  $299         NaN  $225  ,       Unnamed: 0       Unnamed: 1  Unnamed: 2  FY 2018  FY 2020  FY 2021\n",
      "0  $ in billions  FY 2019 Actuals         NaN  Actuals  Enacted  Request\n",
      "1           Base              NaN       599.6    616.4    633.3    636.4\n",
      "2       Overseas              NaN         NaN      NaN      NaN      NaN\n",
      "3    Contingency              NaN         NaN      NaN      NaN      NaN\n",
      "4     Operations              NaN        65.2     68.6     66.4       53\n",
      "5   OCO for Base               --         NaN       --      4.9       16\n",
      "6      Emergency              NaN         5.8      2.8        8       --\n",
      "7          Total              NaN       670.6    687.8    712.6    705.4,                              Unnamed: 0  FY 2019  Unnamed: 1  FY 2020  \\\n",
      "0                               Georgia  Enacted         NaN  Enacted   \n",
      "1      Research - Basic Energy Sciences    5,116         NaN    6,435   \n",
      "2                 Basic Energy Sciences    5,116         NaN    6,435   \n",
      "3   Biological & Environmental Research      343         NaN      347   \n",
      "4                      Science Programs    5,459         NaN    6,782   \n",
      "5           State Energy Program Grants    1,143         NaN    1,320   \n",
      "6     Weatherization Assistance Program    3,658         NaN    4,286   \n",
      "7                    Weatherization and      NaN         NaN      NaN   \n",
      "8            Intergovernmental Programs    4,801         NaN    5,606   \n",
      "9       Energy Efficiency and Renewable      NaN         NaN      NaN   \n",
      "10                      Energy Programs    4,801         NaN    5,606   \n",
      "11      Program Direction - Electricity       12         NaN       12   \n",
      "12                 Electricity Programs       12         NaN       12   \n",
      "13   Purchase Power and Wheeling - SEPA   68,824         NaN   70,704   \n",
      "14             Program Direction - SEPA    6,500         NaN    6,597   \n",
      "15    Southeastern Power Administration      NaN         NaN      NaN   \n",
      "16                             Programs   75,324         NaN   77,301   \n",
      "17                        Total Georgia   85,596         NaN   89,701   \n",
      "\n",
      "    Unnamed: 2 FY 2021 Request  \n",
      "0          NaN          Detail  \n",
      "1          NaN           6,435  \n",
      "2          NaN           6,435  \n",
      "3          NaN               0  \n",
      "4          NaN           6,435  \n",
      "5          NaN               0  \n",
      "6          NaN               0  \n",
      "7          NaN             NaN  \n",
      "8          NaN               0  \n",
      "9          NaN             NaN  \n",
      "10         NaN               0  \n",
      "11         NaN              12  \n",
      "12         NaN              12  \n",
      "13         NaN          85,401  \n",
      "14         NaN          11,246  \n",
      "15         NaN             NaN  \n",
      "16         NaN          96,647  \n",
      "17         NaN         103,094  ]\n"
     ]
    }
   ],
   "source": [
    "## let's pull in our a file with multiple pages and tables\n",
    "## we target the table on the fisrt and second page.\n",
    "pdf2 = \"pdf_samples/mockup2.pdf\"\n",
    "table2 = tabula.read_pdf(pdf2, pages= \"1-4\")\n",
    "print(table2)"
   ]
  },
  {
   "cell_type": "code",
   "execution_count": 12,
   "metadata": {},
   "outputs": [
    {
     "data": {
      "text/plain": [
       "'pdf_samples/mockup2.pdf'"
      ]
     },
     "execution_count": 12,
     "metadata": {},
     "output_type": "execute_result"
    }
   ],
   "source": [
    "pdf2"
   ]
  },
  {
   "cell_type": "code",
   "execution_count": 13,
   "metadata": {
    "id": "FpWwgfQitbeC"
   },
   "outputs": [
    {
     "data": {
      "text/html": [
       "<div>\n",
       "<style scoped>\n",
       "    .dataframe tbody tr th:only-of-type {\n",
       "        vertical-align: middle;\n",
       "    }\n",
       "\n",
       "    .dataframe tbody tr th {\n",
       "        vertical-align: top;\n",
       "    }\n",
       "\n",
       "    .dataframe thead th {\n",
       "        text-align: right;\n",
       "    }\n",
       "</style>\n",
       "<table border=\"1\" class=\"dataframe\">\n",
       "  <thead>\n",
       "    <tr style=\"text-align: right;\">\n",
       "      <th></th>\n",
       "      <th>Unnamed: 0</th>\n",
       "      <th>Unnamed: 1</th>\n",
       "      <th>Unnamed: 2</th>\n",
       "      <th>FY 2018</th>\n",
       "      <th>FY 2020</th>\n",
       "      <th>FY 2021</th>\n",
       "    </tr>\n",
       "  </thead>\n",
       "  <tbody>\n",
       "    <tr>\n",
       "      <th>0</th>\n",
       "      <td>$ in billions</td>\n",
       "      <td>FY 2019 Actuals</td>\n",
       "      <td>NaN</td>\n",
       "      <td>Actuals</td>\n",
       "      <td>Enacted</td>\n",
       "      <td>Request</td>\n",
       "    </tr>\n",
       "    <tr>\n",
       "      <th>1</th>\n",
       "      <td>Base</td>\n",
       "      <td>NaN</td>\n",
       "      <td>599.6</td>\n",
       "      <td>616.4</td>\n",
       "      <td>633.3</td>\n",
       "      <td>636.4</td>\n",
       "    </tr>\n",
       "    <tr>\n",
       "      <th>2</th>\n",
       "      <td>Overseas</td>\n",
       "      <td>NaN</td>\n",
       "      <td>NaN</td>\n",
       "      <td>NaN</td>\n",
       "      <td>NaN</td>\n",
       "      <td>NaN</td>\n",
       "    </tr>\n",
       "    <tr>\n",
       "      <th>3</th>\n",
       "      <td>Contingency</td>\n",
       "      <td>NaN</td>\n",
       "      <td>NaN</td>\n",
       "      <td>NaN</td>\n",
       "      <td>NaN</td>\n",
       "      <td>NaN</td>\n",
       "    </tr>\n",
       "    <tr>\n",
       "      <th>4</th>\n",
       "      <td>Operations</td>\n",
       "      <td>NaN</td>\n",
       "      <td>65.2</td>\n",
       "      <td>68.6</td>\n",
       "      <td>66.4</td>\n",
       "      <td>53</td>\n",
       "    </tr>\n",
       "    <tr>\n",
       "      <th>5</th>\n",
       "      <td>OCO for Base</td>\n",
       "      <td>--</td>\n",
       "      <td>NaN</td>\n",
       "      <td>--</td>\n",
       "      <td>4.9</td>\n",
       "      <td>16</td>\n",
       "    </tr>\n",
       "    <tr>\n",
       "      <th>6</th>\n",
       "      <td>Emergency</td>\n",
       "      <td>NaN</td>\n",
       "      <td>5.8</td>\n",
       "      <td>2.8</td>\n",
       "      <td>8</td>\n",
       "      <td>--</td>\n",
       "    </tr>\n",
       "    <tr>\n",
       "      <th>7</th>\n",
       "      <td>Total</td>\n",
       "      <td>NaN</td>\n",
       "      <td>670.6</td>\n",
       "      <td>687.8</td>\n",
       "      <td>712.6</td>\n",
       "      <td>705.4</td>\n",
       "    </tr>\n",
       "  </tbody>\n",
       "</table>\n",
       "</div>"
      ],
      "text/plain": [
       "      Unnamed: 0       Unnamed: 1  Unnamed: 2  FY 2018  FY 2020  FY 2021\n",
       "0  $ in billions  FY 2019 Actuals         NaN  Actuals  Enacted  Request\n",
       "1           Base              NaN       599.6    616.4    633.3    636.4\n",
       "2       Overseas              NaN         NaN      NaN      NaN      NaN\n",
       "3    Contingency              NaN         NaN      NaN      NaN      NaN\n",
       "4     Operations              NaN        65.2     68.6     66.4       53\n",
       "5   OCO for Base               --         NaN       --      4.9       16\n",
       "6      Emergency              NaN         5.8      2.8        8       --\n",
       "7          Total              NaN       670.6    687.8    712.6    705.4"
      ]
     },
     "execution_count": 13,
     "metadata": {},
     "output_type": "execute_result"
    }
   ],
   "source": [
    "## let's get the first table\n",
    "df1 = table2[2].copy()\n",
    "df1"
   ]
  },
  {
   "cell_type": "code",
   "execution_count": 18,
   "metadata": {
    "id": "3MuAEix0tbg4",
    "scrolled": true
   },
   "outputs": [
    {
     "name": "stdout",
     "output_type": "stream",
     "text": [
      "[   Fringe Benefit Expenses (in millions) Fiscal 2019 Fiscal 2020  \\\n",
      "0                       Health Insurance      $6,268      $7,173   \n",
      "1                        Social Security      $2,161      $2,224   \n",
      "2          Supplemental Welfare Benefits      $1,259      $1,333   \n",
      "3                  Worker's Compensation        $343        $369   \n",
      "4                  Annuity Contributions        $117        $120   \n",
      "5                 Allowance for Uniforms         $72         $71   \n",
      "6      Worker's Compensation - Uniformed         $41         $42   \n",
      "7                 Unemployment Insurance         $36         $38   \n",
      "8                  Other Fringe Benefits         $12         $12   \n",
      "9               Faculty Welfare Benefits         $33         $10   \n",
      "10                  Disability Insurance          $1          $1   \n",
      "11                                Total*     $10,642     $11,394   \n",
      "\n",
      "   Percent Change  \n",
      "0             14%  \n",
      "1              3%  \n",
      "2              6%  \n",
      "3              8%  \n",
      "4              3%  \n",
      "5             -1%  \n",
      "6              4%  \n",
      "7              3%  \n",
      "8             -3%  \n",
      "9            -69%  \n",
      "10             0%  \n",
      "11             7%  ,                              Unnamed: 0   FY19  FY20  Unnamed: 1  FY21  \\\n",
      "0                         Real Property  ($70)    $0         NaN    $0   \n",
      "1                       Personal Income    284   152         NaN   120   \n",
      "2                   General Corporation     71    71         NaN    67   \n",
      "3               Unincorporated Business    -52  -189         NaN  -133   \n",
      "4                         Sales and Use     18    98         NaN   114   \n",
      "5                       Commercial Rent     11    15         NaN    16   \n",
      "6                Real Property Transfer    -30    45         NaN    44   \n",
      "7                    Mortgage Recording    -24    25         NaN    24   \n",
      "8                               Utility      0     1         NaN     0   \n",
      "9                                 Hotel      5    -9         NaN     1   \n",
      "10                            All Other    -11     0         NaN     0   \n",
      "11  Total Executive 2020 Financial Plan    NaN   NaN         NaN   NaN   \n",
      "12                              Changes   $202  $209         NaN  $253   \n",
      "\n",
      "    Unnamed: 2  FY22  Unnamed: 3  FY23  \n",
      "0          NaN    $0         NaN    $0  \n",
      "1          NaN   122         NaN    87  \n",
      "2          NaN    78         NaN    41  \n",
      "3          NaN  -106         NaN  -110  \n",
      "4          NaN   112         NaN   112  \n",
      "5          NaN    18         NaN    18  \n",
      "6          NaN    48         NaN    45  \n",
      "7          NaN    27         NaN    25  \n",
      "8          NaN     0         NaN     0  \n",
      "9          NaN     0         NaN     7  \n",
      "10         NaN     0         NaN     0  \n",
      "11         NaN   NaN         NaN   NaN  \n",
      "12         NaN  $299         NaN  $225  ,                              Unnamed: 0  FY 2019  Unnamed: 1  FY 2020  \\\n",
      "0                               Georgia  Enacted         NaN  Enacted   \n",
      "1      Research - Basic Energy Sciences    5,116         NaN    6,435   \n",
      "2                 Basic Energy Sciences    5,116         NaN    6,435   \n",
      "3   Biological & Environmental Research      343         NaN      347   \n",
      "4                      Science Programs    5,459         NaN    6,782   \n",
      "5           State Energy Program Grants    1,143         NaN    1,320   \n",
      "6     Weatherization Assistance Program    3,658         NaN    4,286   \n",
      "7                    Weatherization and      NaN         NaN      NaN   \n",
      "8            Intergovernmental Programs    4,801         NaN    5,606   \n",
      "9       Energy Efficiency and Renewable      NaN         NaN      NaN   \n",
      "10                      Energy Programs    4,801         NaN    5,606   \n",
      "11      Program Direction - Electricity       12         NaN       12   \n",
      "12                 Electricity Programs       12         NaN       12   \n",
      "13   Purchase Power and Wheeling - SEPA   68,824         NaN   70,704   \n",
      "14             Program Direction - SEPA    6,500         NaN    6,597   \n",
      "15    Southeastern Power Administration      NaN         NaN      NaN   \n",
      "16                             Programs   75,324         NaN   77,301   \n",
      "17                        Total Georgia   85,596         NaN   89,701   \n",
      "\n",
      "    Unnamed: 2 FY 2021 Request  \n",
      "0          NaN          Detail  \n",
      "1          NaN           6,435  \n",
      "2          NaN           6,435  \n",
      "3          NaN               0  \n",
      "4          NaN           6,435  \n",
      "5          NaN               0  \n",
      "6          NaN               0  \n",
      "7          NaN             NaN  \n",
      "8          NaN               0  \n",
      "9          NaN             NaN  \n",
      "10         NaN               0  \n",
      "11         NaN              12  \n",
      "12         NaN              12  \n",
      "13         NaN          85,401  \n",
      "14         NaN          11,246  \n",
      "15         NaN             NaN  \n",
      "16         NaN          96,647  \n",
      "17         NaN         103,094  ]\n"
     ]
    }
   ],
   "source": [
    "## we are pulling in a range of pages\n",
    "## IMPORTANT: There are no spaces in \"1-2,4\"\n",
    "table2a = tabula.read_pdf(pdf2, pages = \"1-2,4\")\n",
    "print(table2a)"
   ]
  },
  {
   "cell_type": "code",
   "execution_count": 19,
   "metadata": {
    "scrolled": true
   },
   "outputs": [
    {
     "data": {
      "text/plain": [
       "[   Fringe Benefit Expenses (in millions) Fiscal 2019 Fiscal 2020  \\\n",
       " 0                       Health Insurance      $6,268      $7,173   \n",
       " 1                        Social Security      $2,161      $2,224   \n",
       " 2          Supplemental Welfare Benefits      $1,259      $1,333   \n",
       " 3                  Worker's Compensation        $343        $369   \n",
       " 4                  Annuity Contributions        $117        $120   \n",
       " 5                 Allowance for Uniforms         $72         $71   \n",
       " 6      Worker's Compensation - Uniformed         $41         $42   \n",
       " 7                 Unemployment Insurance         $36         $38   \n",
       " 8                  Other Fringe Benefits         $12         $12   \n",
       " 9               Faculty Welfare Benefits         $33         $10   \n",
       " 10                  Disability Insurance          $1          $1   \n",
       " 11                                Total*     $10,642     $11,394   \n",
       " \n",
       "    Percent Change  \n",
       " 0             14%  \n",
       " 1              3%  \n",
       " 2              6%  \n",
       " 3              8%  \n",
       " 4              3%  \n",
       " 5             -1%  \n",
       " 6              4%  \n",
       " 7              3%  \n",
       " 8             -3%  \n",
       " 9            -69%  \n",
       " 10             0%  \n",
       " 11             7%  ,\n",
       "                              Unnamed: 0   FY19  FY20  Unnamed: 1  FY21  \\\n",
       " 0                         Real Property  ($70)    $0         NaN    $0   \n",
       " 1                       Personal Income    284   152         NaN   120   \n",
       " 2                   General Corporation     71    71         NaN    67   \n",
       " 3               Unincorporated Business    -52  -189         NaN  -133   \n",
       " 4                         Sales and Use     18    98         NaN   114   \n",
       " 5                       Commercial Rent     11    15         NaN    16   \n",
       " 6                Real Property Transfer    -30    45         NaN    44   \n",
       " 7                    Mortgage Recording    -24    25         NaN    24   \n",
       " 8                               Utility      0     1         NaN     0   \n",
       " 9                                 Hotel      5    -9         NaN     1   \n",
       " 10                            All Other    -11     0         NaN     0   \n",
       " 11  Total Executive 2020 Financial Plan    NaN   NaN         NaN   NaN   \n",
       " 12                              Changes   $202  $209         NaN  $253   \n",
       " \n",
       "     Unnamed: 2  FY22  Unnamed: 3  FY23  \n",
       " 0          NaN    $0         NaN    $0  \n",
       " 1          NaN   122         NaN    87  \n",
       " 2          NaN    78         NaN    41  \n",
       " 3          NaN  -106         NaN  -110  \n",
       " 4          NaN   112         NaN   112  \n",
       " 5          NaN    18         NaN    18  \n",
       " 6          NaN    48         NaN    45  \n",
       " 7          NaN    27         NaN    25  \n",
       " 8          NaN     0         NaN     0  \n",
       " 9          NaN     0         NaN     7  \n",
       " 10         NaN     0         NaN     0  \n",
       " 11         NaN   NaN         NaN   NaN  \n",
       " 12         NaN  $299         NaN  $225  ,\n",
       "                              Unnamed: 0  FY 2019  Unnamed: 1  FY 2020  \\\n",
       " 0                               Georgia  Enacted         NaN  Enacted   \n",
       " 1      Research - Basic Energy Sciences    5,116         NaN    6,435   \n",
       " 2                 Basic Energy Sciences    5,116         NaN    6,435   \n",
       " 3   Biological & Environmental Research      343         NaN      347   \n",
       " 4                      Science Programs    5,459         NaN    6,782   \n",
       " 5           State Energy Program Grants    1,143         NaN    1,320   \n",
       " 6     Weatherization Assistance Program    3,658         NaN    4,286   \n",
       " 7                    Weatherization and      NaN         NaN      NaN   \n",
       " 8            Intergovernmental Programs    4,801         NaN    5,606   \n",
       " 9       Energy Efficiency and Renewable      NaN         NaN      NaN   \n",
       " 10                      Energy Programs    4,801         NaN    5,606   \n",
       " 11      Program Direction - Electricity       12         NaN       12   \n",
       " 12                 Electricity Programs       12         NaN       12   \n",
       " 13   Purchase Power and Wheeling - SEPA   68,824         NaN   70,704   \n",
       " 14             Program Direction - SEPA    6,500         NaN    6,597   \n",
       " 15    Southeastern Power Administration      NaN         NaN      NaN   \n",
       " 16                             Programs   75,324         NaN   77,301   \n",
       " 17                        Total Georgia   85,596         NaN   89,701   \n",
       " \n",
       "     Unnamed: 2 FY 2021 Request  \n",
       " 0          NaN          Detail  \n",
       " 1          NaN           6,435  \n",
       " 2          NaN           6,435  \n",
       " 3          NaN               0  \n",
       " 4          NaN           6,435  \n",
       " 5          NaN               0  \n",
       " 6          NaN               0  \n",
       " 7          NaN             NaN  \n",
       " 8          NaN               0  \n",
       " 9          NaN             NaN  \n",
       " 10         NaN               0  \n",
       " 11         NaN              12  \n",
       " 12         NaN              12  \n",
       " 13         NaN          85,401  \n",
       " 14         NaN          11,246  \n",
       " 15         NaN             NaN  \n",
       " 16         NaN          96,647  \n",
       " 17         NaN         103,094  ]"
      ]
     },
     "execution_count": 19,
     "metadata": {},
     "output_type": "execute_result"
    }
   ],
   "source": [
    "table2a"
   ]
  },
  {
   "cell_type": "markdown",
   "metadata": {
    "id": "OiC2PZonEEQn"
   },
   "source": [
    "## Homework for week 11\n",
    "\n",
    "- Multi-page, Multi-table all zipped together\n",
    "- Look at week 9"
   ]
  },
  {
   "cell_type": "markdown",
   "metadata": {
    "id": "VDwte6-0EEQn"
   },
   "source": [
    "## Foundational Multi-page, Multi-table\n",
    "\n",
    "### Campaign contribution demo"
   ]
  },
  {
   "cell_type": "code",
   "execution_count": null,
   "metadata": {
    "id": "oDXTNCYz3Meo"
   },
   "outputs": [],
   "source": [
    "## path to our \"campaign_contribs.pdf\" PDF\n"
   ]
  },
  {
   "cell_type": "code",
   "execution_count": null,
   "metadata": {
    "id": "1e8-1K9d3Rv2"
   },
   "outputs": [],
   "source": [
    "## get all the pages\n"
   ]
  },
  {
   "cell_type": "code",
   "execution_count": null,
   "metadata": {
    "id": "DHVO2hJk6FWA"
   },
   "outputs": [],
   "source": [
    "## confirm we have the correct number of tables. should have 4 tables\n"
   ]
  },
  {
   "cell_type": "code",
   "execution_count": null,
   "metadata": {
    "id": "8AgXtOZY3SBc"
   },
   "outputs": [],
   "source": [
    "## let's get the 3rd table\n"
   ]
  },
  {
   "cell_type": "code",
   "execution_count": null,
   "metadata": {
    "id": "p5-wk7y_3SUX"
   },
   "outputs": [],
   "source": [
    "## create a function to download each table as CSV\n"
   ]
  },
  {
   "cell_type": "code",
   "execution_count": null,
   "metadata": {
    "id": "6S-mWu_y3SQr"
   },
   "outputs": [],
   "source": [
    "## call the function\n"
   ]
  },
  {
   "cell_type": "code",
   "execution_count": null,
   "metadata": {
    "id": "bJGfauf83SHi"
   },
   "outputs": [],
   "source": [
    "## write function to combine tabula tables into a single csv\n"
   ]
  },
  {
   "cell_type": "code",
   "execution_count": null,
   "metadata": {
    "id": "iz5nAFFQ3R98"
   },
   "outputs": [],
   "source": [
    "## call the function\n"
   ]
  },
  {
   "cell_type": "markdown",
   "metadata": {
    "id": "9eXkX_-5EEQp"
   },
   "source": [
    "## Reality Check"
   ]
  },
  {
   "cell_type": "code",
   "execution_count": null,
   "metadata": {
    "id": "IaIrkyaF3RsB"
   },
   "outputs": [],
   "source": [
    "## import who_covid.pdf\n"
   ]
  },
  {
   "cell_type": "code",
   "execution_count": null,
   "metadata": {
    "id": "vggux_N7BWnK"
   },
   "outputs": [],
   "source": [
    "##look at it\n"
   ]
  },
  {
   "cell_type": "code",
   "execution_count": null,
   "metadata": {
    "id": "PUpxCYpC_ZsK"
   },
   "outputs": [],
   "source": [
    "## table on page 3\n",
    "\n"
   ]
  },
  {
   "cell_type": "code",
   "execution_count": null,
   "metadata": {
    "id": "gKgCjv3JAMCv"
   },
   "outputs": [],
   "source": [
    "##table on page 4\n"
   ]
  },
  {
   "cell_type": "markdown",
   "metadata": {
    "id": "LYrUcnZ29uGJ"
   },
   "source": [
    "# No Satisfaction Guarantee\n",
    "\n",
    "I know I said that at the beginning. What did I mean by that?\n",
    "\n",
    "The results really depend on the PDF and how it was put together.\n",
    "\n",
    "Here are some issues you will encounter:\n",
    "\n",
    "1. The Tables have too many sub-columns and sub-rows and groupings (bad_table.pdf)\n",
    "\n",
    "2. Multiple different tables on the same page that are too close together will be processed as a single table and be an utter mess.\n",
    "\n",
    "3. Documents and reports that have been scanned and are really images of PDFs can't be processed with Tabula or PyPDF2. Tables on these types of scans require advanced Python and graphical analysis skills beyond the scope of this course."
   ]
  },
  {
   "cell_type": "code",
   "execution_count": null,
   "metadata": {
    "id": "VXnrEkXw9vhA"
   },
   "outputs": [],
   "source": []
  }
 ],
 "metadata": {
  "colab": {
   "collapsed_sections": [],
   "name": "week-9-working-with-PDFs_BLANKS.ipynb",
   "provenance": [
    {
     "file_id": "1G-JATnnWYmbUDisejfkNlWNndJyDunak",
     "timestamp": 1629243241662
    },
    {
     "file_id": "1v0jsZjHBn9_KTLJBKwBX7GdOzIBmqjeJ",
     "timestamp": 1621421029732
    }
   ]
  },
  "kernelspec": {
   "display_name": "Python 3 (ipykernel)",
   "language": "python",
   "name": "python3"
  },
  "language_info": {
   "codemirror_mode": {
    "name": "ipython",
    "version": 3
   },
   "file_extension": ".py",
   "mimetype": "text/x-python",
   "name": "python",
   "nbconvert_exporter": "python",
   "pygments_lexer": "ipython3",
   "version": "3.9.13"
  }
 },
 "nbformat": 4,
 "nbformat_minor": 1
}
