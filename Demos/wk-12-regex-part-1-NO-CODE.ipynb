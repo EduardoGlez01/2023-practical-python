{
 "cells": [
  {
   "cell_type": "markdown",
   "metadata": {
    "id": "RtXF5HKNRbPh"
   },
   "source": [
    "# Regular Expressions (regex) - Part 1\n",
    "\n",
    "Pages we need to visit:\n",
    "\n",
    "- <a href=\"https://docs.google.com/presentation/d/165Dc2jKVK1KITd3FTzOeYS2EA5DUNutajFMuy3tQ84Q/edit?usp=sharing\">What is REGEX in our news reporting context?</a> \n",
    "- [Dummy text](https://docs.google.com/document/d/1_iwlPoUkJE5MAkUzQnfUpN_dFVfTFq1S-9BueYvd-aA/edit?usp=sharing)\n",
    "- Live Testing: https://regex101.com/\n",
    "- Sandeep's <a href=\"https://docs.google.com/spreadsheets/d/1TyJPfchWYfdWNAL-_yO6yR4fwxb7CX2E/edit?usp=sharing&rtpof=true&sd=true\">REGEX Tip sheet</a>\n",
    "\n"
   ]
  },
  {
   "cell_type": "markdown",
   "metadata": {},
   "source": [
    "# CÓDIGOS DE REGEX (REGULAR EXPRESSIONS)\n",
    "- <p>0 = puede no haber \"letra que se está buscando\"</p>\n",
    "- <p>Para buscar un rango es con comas \"1,5\", por ejemplo</p>\n",
    "- <p>El argumento a buscar es el último antes de las corcheas, por ejemplo: ab{3,5}a, esto buscará cualquier \n",
    "argumento que esté entre 3 y 5 bes después de la a</p>\n",
    "\n",
    "- <p>[a-z] es para todas las letras minúsculas</p>\n",
    "- <p>[A-B] es para todas las letras mayúsculas</p>\n",
    "- <p>+ es para agrupar un argumento. [a-z]+ por ejemplo, va a ahrupar todas las letras separadas poder cada cosa que no sea una letra</p>\n",
    "- <p>\\b es para deliminar el argumento de búsqueda. Se pueden usar al inicio y al final</p>\n",
    "- <p>\\d es para los números solamente</p>\n",
    "- <p>\\D coincide con cualquier carácter que no sea un dígito (equivalente a [^0-9])</p>\n",
    "- <p>\\w es para buscar todos los caracteres que no son símbolos o espacios</p>\n",
    "- <p>\\W es para todo excepto por las letras y los nùmeros</p>\n",
    "- <p>\\s es para capturar todos los espacios</p>\n",
    "- <p>\\S es para cualquier cosa que no sea un espacio</p>\n",
    "- <p> ^ es para filtrar cualquier elemento al principio de un párrafo</p>\n",
    "- <p> El símbolo de dinero es para filtrar cualquier elemento al final de cada párrafo </p>\n",
    "- <p>\\$ Es para buscar el caracter de dinero. Es búsqueda literal ($)</p>\n",
    "- <p>. captura cualquier cosa que no sea un cambio de párrafo</p>\n",
    "- <p>\\. es para buscar los puntos, es una búsqueda literal</p>\n",
    "\n",
    "- <p>\\ el slash por si solo elimina toda la función de código de regular expresions de un caracter y lo convierte el búsqueda literal</p>\n",
    "\n",
    "- <p>[0-9] te da todo lo que sea un número</p>\n",
    "- <p>[^0-9] te da todo lo que no sea un número</p>\n",
    "- <p>(palabra1|palabra2) es para poder buscar dos argumentos de búsqueda al mismo tiempo</p>\n",
    "- <p> * es para 1 o más argumentos (CUantifica cuantos debe de haber)</p>\n",
    "- <p> ? es para 0 o más argumentos (CUantifica cuantos debe de haber)</p>\n",
    "- <p> {1,2} es para delimitar entre dos argumentos (Cuantifica cuantos debe de haber)</p>\n",
    "\n",
    "\n",
    "- <p> Cualquier cosa entre brackets [], es un set de búsqueda que puede tener más indicaciones</p>\n",
    "- <p> Cualquier cosa entre paréntesis (), separados por un palito |, es un grupo de términos intercambiables de bùsqueda</p>\n",
    "\n",
    "\n",
    "- <p> \"SET REGEX OPTIONS\" puedes filtrar la sensibilidad de la búsqueda para que no importe si està en mayus o minusculas</p>\n",
    "\n",
    "\n",
    "- <p> ** tel\\.\\s+(\\(?\\d{3}\\)?\\D\\d{3}?\\D\\d{4}) es un código para obtener teléfonos. incluye </p>\n",
    "\n",
    "- <p>My take 1: (\\d{1,11},?\\d{1,11},\\d{1,11}.\\d{1,11}) </p>\n",
    "- <p>Francisco's take: (^[,-9]+) </p>\n",
    "- <p>Sandeep's take: (^[\\d\\,\\.]+) </p>\n",
    "\n",
    "\n",
    "\n",
    "\n",
    "- <p>(Det.|Police Officer|officer|Lt.|Detective)([\\w\\w.?\\w+]+)</p>\n",
    "\n",
    "\n",
    "\n",
    "##"
   ]
  },
  {
   "cell_type": "markdown",
   "metadata": {
    "id": "tcc1SbumvX68"
   },
   "source": [
    "# NO CODING this week - only learning REGEX syntax"
   ]
  },
  {
   "cell_type": "code",
   "execution_count": null,
   "metadata": {
    "id": "msII9gikvhuq"
   },
   "outputs": [],
   "source": []
  }
 ],
 "metadata": {
  "colab": {
   "collapsed_sections": [],
   "provenance": []
  },
  "kernelspec": {
   "display_name": "Python 3 (ipykernel)",
   "language": "python",
   "name": "python3"
  },
  "language_info": {
   "codemirror_mode": {
    "name": "ipython",
    "version": 3
   },
   "file_extension": ".py",
   "mimetype": "text/x-python",
   "name": "python",
   "nbconvert_exporter": "python",
   "pygments_lexer": "ipython3",
   "version": "3.9.13"
  }
 },
 "nbformat": 4,
 "nbformat_minor": 1
}
