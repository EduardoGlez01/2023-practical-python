{
 "cells": [
  {
   "cell_type": "markdown",
   "metadata": {
    "id": "XI6zto6STb4w"
   },
   "source": [
    "# Week 2 - Iterating through data"
   ]
  },
  {
   "cell_type": "markdown",
   "metadata": {
    "id": "0MMmi7k9vvZu"
   },
   "source": [
    "# 1. ```for loops```... a data journalist's favorite Python expression</center>\n",
    "\n",
    "We use it to **iterate** over:\n",
    "* data stored in a list and run some calculation on each value;\n",
    "* a list of URLs and visit each site to scrape data;\n",
    "* data stored in dictionary keys and values and return what you are looking for."
   ]
  },
  {
   "cell_type": "code",
   "execution_count": 3,
   "metadata": {
    "colab": {
     "base_uri": "https://localhost:8080/"
    },
    "executionInfo": {
     "elapsed": 295,
     "status": "ok",
     "timestamp": 1653411177509,
     "user": {
      "displayName": "Sandeep Junnarkar",
      "userId": "15658885848901522782"
     },
     "user_tz": 240
    },
    "id": "VCtbKIAH9QUR",
    "outputId": "a66d34e1-9dcc-45e9-ad54-43740a962524"
   },
   "outputs": [],
   "source": [
    "## run this list\n",
    "fav_animals = [\"cats\", \"dogs\", \"birds\", \"snakes\", \"horses\"]\n"
   ]
  },
  {
   "cell_type": "code",
   "execution_count": 4,
   "metadata": {
    "colab": {
     "base_uri": "https://localhost:8080/",
     "height": 36
    },
    "executionInfo": {
     "elapsed": 342,
     "status": "ok",
     "timestamp": 1653411202107,
     "user": {
      "displayName": "Sandeep Junnarkar",
      "userId": "15658885848901522782"
     },
     "user_tz": 240
    },
    "id": "htMEQ3gf9vGv",
    "outputId": "1beb9d53-d421-475d-f0c5-4d624e3d700a"
   },
   "outputs": [
    {
     "data": {
      "text/plain": [
       "['cats', 'dogs', 'birds', 'snakes', 'horses']"
      ]
     },
     "execution_count": 4,
     "metadata": {},
     "output_type": "execute_result"
    }
   ],
   "source": [
    "##call the temporary variable\n",
    "fav_animals"
   ]
  },
  {
   "cell_type": "code",
   "execution_count": 6,
   "metadata": {
    "executionInfo": {
     "elapsed": 272,
     "status": "ok",
     "timestamp": 1653411254202,
     "user": {
      "displayName": "Sandeep Junnarkar",
      "userId": "15658885848901522782"
     },
     "user_tz": 240
    },
    "id": "OmwpXcyY_UXn"
   },
   "outputs": [],
   "source": [
    "## name dog lucy\n",
    "my_dog = \"lucy\""
   ]
  },
  {
   "cell_type": "code",
   "execution_count": 7,
   "metadata": {
    "colab": {
     "base_uri": "https://localhost:8080/",
     "height": 36
    },
    "executionInfo": {
     "elapsed": 4,
     "status": "ok",
     "timestamp": 1653411264819,
     "user": {
      "displayName": "Sandeep Junnarkar",
      "userId": "15658885848901522782"
     },
     "user_tz": 240
    },
    "id": "lFTaI6NS_ZRx",
    "outputId": "54c5f47a-9b00-4836-ab74-e0e2bd2e3801"
   },
   "outputs": [
    {
     "data": {
      "text/plain": [
       "'LUCY'"
      ]
     },
     "execution_count": 7,
     "metadata": {},
     "output_type": "execute_result"
    }
   ],
   "source": [
    "## upper case the previous variable \n",
    "## you can target an individual item\n",
    "my_dog.upper()"
   ]
  },
  {
   "cell_type": "code",
   "execution_count": 8,
   "metadata": {},
   "outputs": [
    {
     "ename": "AttributeError",
     "evalue": "'list' object has no attribute 'upper'",
     "output_type": "error",
     "traceback": [
      "\u001b[0;31m---------------------------------------------------------------------------\u001b[0m",
      "\u001b[0;31mAttributeError\u001b[0m                            Traceback (most recent call last)",
      "\u001b[0;32m/var/folders/jg/xjfmqdcj0m1bqs1d7sgv9v480000gp/T/ipykernel_5395/3943347216.py\u001b[0m in \u001b[0;36m<module>\u001b[0;34m\u001b[0m\n\u001b[1;32m      1\u001b[0m \u001b[0;31m## upper case and print each animal in our list\u001b[0m\u001b[0;34m\u001b[0m\u001b[0;34m\u001b[0m\u001b[0m\n\u001b[1;32m      2\u001b[0m \u001b[0;31m## this will break\u001b[0m\u001b[0;34m\u001b[0m\u001b[0;34m\u001b[0m\u001b[0m\n\u001b[0;32m----> 3\u001b[0;31m \u001b[0mfav_animals\u001b[0m\u001b[0;34m.\u001b[0m\u001b[0mupper\u001b[0m\u001b[0;34m(\u001b[0m\u001b[0;34m)\u001b[0m\u001b[0;34m\u001b[0m\u001b[0;34m\u001b[0m\u001b[0m\n\u001b[0m",
      "\u001b[0;31mAttributeError\u001b[0m: 'list' object has no attribute 'upper'"
     ]
    }
   ],
   "source": [
    "## upper case and print each animal in our list\n",
    "## this will break\n",
    "fav_animals.upper()"
   ]
  },
  {
   "cell_type": "code",
   "execution_count": 10,
   "metadata": {},
   "outputs": [
    {
     "name": "stdout",
     "output_type": "stream",
     "text": [
      "CATS\n",
      "DOGS\n",
      "BIRDS\n",
      "SNAKES\n",
      "HORSES\n"
     ]
    }
   ],
   "source": [
    "## use a for loop to upper case each animal and print it\n",
    "\n",
    "for animal in fav_animals:   \n",
    "#     print(type(animal))\n",
    "    print(animal.upper())\n"
   ]
  },
  {
   "cell_type": "code",
   "execution_count": 11,
   "metadata": {},
   "outputs": [
    {
     "data": {
      "text/plain": [
       "['cats', 'dogs', 'birds', 'snakes', 'horses']"
      ]
     },
     "execution_count": 11,
     "metadata": {},
     "output_type": "execute_result"
    }
   ],
   "source": [
    "## did our list change? Call the fav_animals list\n",
    "fav_animals"
   ]
  },
  {
   "cell_type": "code",
   "execution_count": 12,
   "metadata": {},
   "outputs": [
    {
     "name": "stdout",
     "output_type": "stream",
     "text": [
      "['CATS']\n",
      "['CATS', 'DOGS']\n",
      "['CATS', 'DOGS', 'BIRDS']\n",
      "['CATS', 'DOGS', 'BIRDS', 'SNAKES']\n",
      "['CATS', 'DOGS', 'BIRDS', 'SNAKES', 'HORSES']\n"
     ]
    }
   ],
   "source": [
    "## We save our iterated data by adding to an empty list\n",
    "upper_animals = []\n",
    "for animal in fav_animals:   \n",
    "#     print(type(animal))\n",
    "    animal = animal.upper()\n",
    "    upper_animals.append(animal)\n",
    "    print(upper_animals)"
   ]
  },
  {
   "cell_type": "markdown",
   "metadata": {
    "id": "mtzDhlNhTb5a"
   },
   "source": [
    "Let's take **For Loops** for test drive:"
   ]
  },
  {
   "cell_type": "code",
   "execution_count": null,
   "metadata": {
    "colab": {
     "base_uri": "https://localhost:8080/"
    },
    "executionInfo": {
     "elapsed": 174,
     "status": "ok",
     "timestamp": 1646146479912,
     "user": {
      "displayName": "Sandeep Junnarkar",
      "photoUrl": "https://lh3.googleusercontent.com/a/default-user=s64",
      "userId": "15658885848901522782"
     },
     "user_tz": 300
    },
    "id": "nUxiCM4ATb5b",
    "outputId": "901b77dc-f6b0-4ce7-9242-a622fbc92355"
   },
   "outputs": [],
   "source": [
    "## RUN THIS CELL - Use this list of CEO salaries from 1985 \n",
    "ceo_salaries_1985 = [150_000, 201_000, 110_000, 75_000, 92_000, 55_000]\n"
   ]
  },
  {
   "cell_type": "code",
   "execution_count": null,
   "metadata": {
    "colab": {
     "base_uri": "https://localhost:8080/"
    },
    "executionInfo": {
     "elapsed": 169,
     "status": "ok",
     "timestamp": 1646146600490,
     "user": {
      "displayName": "Sandeep Junnarkar",
      "photoUrl": "https://lh3.googleusercontent.com/a/default-user=s64",
      "userId": "15658885848901522782"
     },
     "user_tz": 300
    },
    "id": "slKIj6I5Tb5d",
    "outputId": "d02bde0a-f950-4e6d-a5ed-2eb21c075e49"
   },
   "outputs": [],
   "source": [
    "## Print each salary with in the following format:\n",
    "## \"A CEO earned [some value] in 1985.\"\n",
    "for ceo_salary_1985 in ceo_salaries_1985:\n",
    "  print(f\"A CEO earned ${ceo_salary_1985:,} in 1985\")"
   ]
  },
  {
   "cell_type": "code",
   "execution_count": null,
   "metadata": {
    "colab": {
     "base_uri": "https://localhost:8080/"
    },
    "executionInfo": {
     "elapsed": 167,
     "status": "ok",
     "timestamp": 1646146979546,
     "user": {
      "displayName": "Sandeep Junnarkar",
      "photoUrl": "https://lh3.googleusercontent.com/a/default-user=s64",
      "userId": "15658885848901522782"
     },
     "user_tz": 300
    },
    "id": "of8edS6oTb5f",
    "outputId": "09a6cfa2-d791-4880-f46b-4a448f944ad5"
   },
   "outputs": [],
   "source": [
    "## Now update each salary to 2019 dollars.\n",
    "## Print the following info:\n",
    "## \"A CEO's salary of [1985 salary] in 1985 is worth [updated salary] in 2019 dollars.\"\n",
    "## The CPI for 1985 is 107.6\n",
    "## The 2019 CPI is 255.657\n",
    "## The formula is: updated_salary = (oldSalary/oldCPI) * currentCPI\n",
    "## add formatting\n",
    "\n",
    "cpi_2019 = 255.657\n",
    "cpi_1985 = 107.6\n",
    "\n",
    "for salary_1985 in ceo_salaries_1985:\n",
    "  updated_salary = (salary_1985/cpi_1985) * cpi_2019\n",
    "  print(f\"A CEO's salary of ${salary_1985:,} in 1985 is worth ${updated_salary:,.0f} in 2019 dollars.\")\n",
    "print(f\"{updated_salary:,.0f}\")"
   ]
  },
  {
   "cell_type": "code",
   "execution_count": null,
   "metadata": {
    "id": "2OrmbbT4An4u"
   },
   "outputs": [],
   "source": [
    "## store the updated values\n",
    "\n",
    "cpi_2019 = 255.657\n",
    "cpi_1985 = 107.6\n",
    "\n",
    "salaries_2019 = []\n",
    "\n",
    "for salary_1985 in ceo_salaries_1985:\n",
    "  updated_salary = (salary_1985/cpi_1985) * cpi_2019\n",
    "  print(f\"A CEO's salary of ${salary_1985:,} in 1985 is worth ${updated_salary:,.0f} in 2019 dollars.\")\n",
    "  salaries_2019.append(updated_salary)"
   ]
  },
  {
   "cell_type": "code",
   "execution_count": null,
   "metadata": {
    "colab": {
     "base_uri": "https://localhost:8080/"
    },
    "executionInfo": {
     "elapsed": 197,
     "status": "ok",
     "timestamp": 1646148692703,
     "user": {
      "displayName": "Sandeep Junnarkar",
      "photoUrl": "https://lh3.googleusercontent.com/a/default-user=s64",
      "userId": "15658885848901522782"
     },
     "user_tz": 300
    },
    "id": "O6Zs7AKSA7II",
    "outputId": "19735637-be92-428e-9960-199c30e3ea52"
   },
   "outputs": [],
   "source": [
    "## call updated ceo salaries\n",
    "salaries_2019"
   ]
  },
  {
   "cell_type": "markdown",
   "metadata": {},
   "source": [
    "## 2. Conditional Statements\n"
   ]
  },
  {
   "cell_type": "code",
   "execution_count": null,
   "metadata": {},
   "outputs": [],
   "source": [
    "## create a list of 10 random numbers anywhere from -100 to 100 \n",
    "##name the list numbers\n",
    "\n",
    "import random\n",
    "numbers = random.sample(range(-100, 101), 10)\n",
    "numbers"
   ]
  },
  {
   "cell_type": "markdown",
   "metadata": {},
   "source": [
    "Create conditional statements that tell us if the last number and the penultimate number are positive or negative.\n",
    "Print a sentence that reads:\n",
    "```\n",
    "\"The last number [what is it?] is [positive or negative] while \n",
    " the penultimate number [what is it?] is [negative or positive].\"\n",
    "```"
   ]
  },
  {
   "cell_type": "code",
   "execution_count": null,
   "metadata": {},
   "outputs": [],
   "source": [
    "## code it here\n",
    "## if else statements\n",
    "if numbers[-2] > 0:\n",
    "    pen_status = \"positive\"\n",
    "else: \n",
    "    pen_status = \"negative\"\n",
    "if numbers[-1] > 0:\n",
    "    last_status = \"positive\"\n",
    "else:\n",
    "    last_status = \"negative\"   \n",
    "print(f\"The last number {numbers[-1]} is {last_status} while \\\n",
    " the penultimate number {numbers[-2]} is {pen_status}.\")\n",
    "    "
   ]
  },
  {
   "cell_type": "markdown",
   "metadata": {},
   "source": [
    "## 3. Tenary Expression\n",
    "```variable = value1 if some_condition else value2```"
   ]
  },
  {
   "cell_type": "code",
   "execution_count": 2,
   "metadata": {},
   "outputs": [],
   "source": [
    "## Use the same data in the previous conditional and print out the same results using a tenary expression.\n",
    "\n",
    "pen_status  = \"positive\" if numbers[-2] > 0 else \"negative\"\n",
    "last_status = \"positive\" if numbers[-1] > 0 else \"negative\"\n",
    "print(f\"The last number {numbers[-1]} is {last_status} while \\\n",
    " the penultimate number {numbers[-2]} is {pen_status}.\")"
   ]
  },
  {
   "cell_type": "markdown",
   "metadata": {},
   "source": [
    "## the zen of python"
   ]
  },
  {
   "cell_type": "code",
   "execution_count": null,
   "metadata": {
    "id": "urSfhV3_NhCZ"
   },
   "outputs": [],
   "source": [
    "import this\n"
   ]
  },
  {
   "cell_type": "markdown",
   "metadata": {},
   "source": [
    "## Modulo Operator\n",
    "\n",
    "The ```%``` is also known as the ```modulo operator``` in Python.\n",
    "\n",
    "The expression ```10 % 2``` means if you devide 10 by 2, what is the remainder?"
   ]
  },
  {
   "cell_type": "code",
   "execution_count": null,
   "metadata": {},
   "outputs": [],
   "source": [
    "### try it\n",
    "10 % 2"
   ]
  },
  {
   "cell_type": "code",
   "execution_count": null,
   "metadata": {},
   "outputs": [],
   "source": [
    "## try 13 divided by 2\n",
    "13% 2"
   ]
  },
  {
   "cell_type": "code",
   "execution_count": null,
   "metadata": {},
   "outputs": [],
   "source": [
    "## assign x the value 2\n",
    "x = 2"
   ]
  },
  {
   "cell_type": "code",
   "execution_count": null,
   "metadata": {
    "colab": {
     "base_uri": "https://localhost:8080/"
    },
    "executionInfo": {
     "elapsed": 156,
     "status": "ok",
     "timestamp": 1646150766657,
     "user": {
      "displayName": "Sandeep Junnarkar",
      "photoUrl": "https://lh3.googleusercontent.com/a/default-user=s64",
      "userId": "15658885848901522782"
     },
     "user_tz": 300
    },
    "id": "bBdvPziNOwTB",
    "outputId": "499ab93f-81f7-4345-d54e-d03f879676b3"
   },
   "outputs": [],
   "source": [
    "## check for equality of 2\n",
    "x == 2"
   ]
  },
  {
   "cell_type": "code",
   "execution_count": null,
   "metadata": {},
   "outputs": [],
   "source": [
    "## check for equality of 3\n",
    "\n",
    "x == 3"
   ]
  },
  {
   "cell_type": "markdown",
   "metadata": {
    "id": "jT5n6Up0wQbE"
   },
   "source": [
    "## 4. List Comprehension"
   ]
  },
  {
   "cell_type": "code",
   "execution_count": null,
   "metadata": {
    "colab": {
     "base_uri": "https://localhost:8080/"
    },
    "executionInfo": {
     "elapsed": 318,
     "status": "ok",
     "timestamp": 1646150036647,
     "user": {
      "displayName": "Sandeep Junnarkar",
      "photoUrl": "https://lh3.googleusercontent.com/a/default-user=s64",
      "userId": "15658885848901522782"
     },
     "user_tz": 300
    },
    "id": "ewAafTSZffPi",
    "outputId": "bf150f7c-d4f0-438f-f328-98b369d2d97d"
   },
   "outputs": [],
   "source": [
    "## run this list\n",
    "numbers = [0, 1, 2, 3, 4, 5, 6, 7, 8, 9, 10]\n"
   ]
  },
  {
   "cell_type": "code",
   "execution_count": null,
   "metadata": {
    "colab": {
     "base_uri": "https://localhost:8080/"
    },
    "executionInfo": {
     "elapsed": 163,
     "status": "ok",
     "timestamp": 1646150219777,
     "user": {
      "displayName": "Sandeep Junnarkar",
      "photoUrl": "https://lh3.googleusercontent.com/a/default-user=s64",
      "userId": "15658885848901522782"
     },
     "user_tz": 300
    },
    "id": "PYQ8RjbGfsT4",
    "outputId": "d6fa8ecd-0a75-432a-ec82-36140efcfdc5"
   },
   "outputs": [],
   "source": [
    "## use a FOR LOOP (FL) to create a list that holds the numbers times 10\n",
    "x10_fl = []\n",
    "\n",
    "for number in numbers:\n",
    "#     number = number * 10\n",
    "#     x10_fl.append(number)\n",
    "    x10_fl.append(number * 10)\n",
    "    \n",
    "x10_fl"
   ]
  },
  {
   "cell_type": "code",
   "execution_count": null,
   "metadata": {
    "colab": {
     "base_uri": "https://localhost:8080/"
    },
    "executionInfo": {
     "elapsed": 269,
     "status": "ok",
     "timestamp": 1646150335897,
     "user": {
      "displayName": "Sandeep Junnarkar",
      "photoUrl": "https://lh3.googleusercontent.com/a/default-user=s64",
      "userId": "15658885848901522782"
     },
     "user_tz": 300
    },
    "id": "ZuKI0ebYf1ON",
    "outputId": "0f38a160-4d15-4287-cf72-585f964bd92e"
   },
   "outputs": [],
   "source": [
    "## use list comprehension (LC) to create a list that holds the numbers times 10\n",
    "## use list comprehension (LC) to create a list that holds the numbers times 10\n",
    "\n",
    "x10_lc = [number * 10 for number in numbers]\n",
    "x10_lc"
   ]
  },
  {
   "cell_type": "code",
   "execution_count": null,
   "metadata": {
    "colab": {
     "base_uri": "https://localhost:8080/"
    },
    "executionInfo": {
     "elapsed": 380,
     "status": "ok",
     "timestamp": 1646150869735,
     "user": {
      "displayName": "Sandeep Junnarkar",
      "photoUrl": "https://lh3.googleusercontent.com/a/default-user=s64",
      "userId": "15658885848901522782"
     },
     "user_tz": 300
    },
    "id": "R9EJBM96gBWy",
    "outputId": "fcc10778-0196-4d5a-8ae5-fee31ae09a53"
   },
   "outputs": [],
   "source": [
    "## use LC to create a list that holds only the even numbers \n",
    "even_lc = [number for number in numbers if number % 2 == 0 ]\n",
    "even_lc"
   ]
  },
  {
   "cell_type": "code",
   "execution_count": null,
   "metadata": {
    "colab": {
     "base_uri": "https://localhost:8080/"
    },
    "executionInfo": {
     "elapsed": 221,
     "status": "ok",
     "timestamp": 1646151168648,
     "user": {
      "displayName": "Sandeep Junnarkar",
      "photoUrl": "https://lh3.googleusercontent.com/a/default-user=s64",
      "userId": "15658885848901522782"
     },
     "user_tz": 300
    },
    "id": "23TpWeMAgLOX",
    "outputId": "82c1b481-7ae9-4ed5-841a-0cc346b72575"
   },
   "outputs": [],
   "source": [
    "## use LC to create a list that holds only the odd numbers \n",
    "odd_lc = [number * 10 for number in numbers if number % 2 !=0]\n",
    "odd_lc\n"
   ]
  },
  {
   "cell_type": "markdown",
   "metadata": {
    "id": "Ha01uz9JTb5h"
   },
   "source": [
    "## 5. For Loops through multiple but related lists\n",
    "\n",
    "When we scrape data from a website, we pull down various data points (income, name, location, id code, etc.) and store each into its own separate list.\n",
    "\n",
    "A final step is to always group data points from each observation together. For example:\n",
    "\n",
    "- \"Sandeep Junnarkar\"\n",
    "- \"Professor\"\n",
    "- \"Male\"\n",
    "- \"CUNY\"\n",
    "\n"
   ]
  },
  {
   "cell_type": "markdown",
   "metadata": {
    "id": "0QxLIvTmTb5k"
   },
   "source": [
    "### Two ways to ```zip()``` these lists together\n",
    "\n",
    "But first let's explore the zip function:\n",
    "\n",
    "\n"
   ]
  },
  {
   "cell_type": "code",
   "execution_count": null,
   "metadata": {
    "id": "2PRA8LoaTb5i"
   },
   "outputs": [],
   "source": [
    "##  RUN THIS CELL - \n",
    "## Here we have a list of CEOs and their relevant data points.\n",
    "first_names = [\"Irene\", \"Ursula\", \"Elon\", \"Tim\"]\n",
    "last_names = [\"Rosenfeld\", \"Burns\", \"Musk\", \"Cook\"]\n",
    "titles = [\"Chairman and CEO\", \"Chairman and CEO\", \"CEO\", \"CEO\"]\n",
    "companies = [\"Kraft Foods\", \"Xerox\", \"Tesla\", \"Apple\"]\n",
    "industries = [\"Food and Beverage\", \"Process and Document Management\", \"Auto Manufacturing\", \"Consumer Technology\"]"
   ]
  },
  {
   "cell_type": "code",
   "execution_count": null,
   "metadata": {
    "colab": {
     "base_uri": "https://localhost:8080/"
    },
    "executionInfo": {
     "elapsed": 202,
     "status": "ok",
     "timestamp": 1646148934944,
     "user": {
      "displayName": "Sandeep Junnarkar",
      "photoUrl": "https://lh3.googleusercontent.com/a/default-user=s64",
      "userId": "15658885848901522782"
     },
     "user_tz": 300
    },
    "id": "cQeH1oC8Tb5k",
    "outputId": "cc185387-47b1-46b1-abbf-fe448cbdd655"
   },
   "outputs": [],
   "source": [
    "## with zip\n",
    "## also print what each type of data is.\n",
    "\n",
    "for (f_name, l_name, role, co, sector)\\\n",
    "in zip(first_names, last_names, titles, companies, industries):\n",
    "    print(f\"{f_name} {l_name}: {role}, {co}, {sector}\")"
   ]
  },
  {
   "cell_type": "markdown",
   "metadata": {},
   "source": [
    "### Method 1 – Zip lists into dictionaries"
   ]
  },
  {
   "cell_type": "code",
   "execution_count": null,
   "metadata": {},
   "outputs": [],
   "source": [
    "## declare empty list and for loop zip\n",
    "method_1 = []\n",
    "\n",
    "## for loop:\n",
    "for (f_name, l_name, role, co, sector)\\\n",
    "in zip(first_names, last_names, titles, companies, industries):\n",
    "    method_1.append({\n",
    "        \"first_name\": f_name,\n",
    "        \"last_name\": l_name,\n",
    "        \"title\": role,\n",
    "        \"company\": co,\n",
    "        \"Industry\": sector\n",
    "    })\n",
    "\n"
   ]
  },
  {
   "cell_type": "code",
   "execution_count": null,
   "metadata": {},
   "outputs": [],
   "source": [
    "## call the method_1 list\n",
    "method_1"
   ]
  },
  {
   "cell_type": "markdown",
   "metadata": {
    "id": "UFu35-VLMVOD"
   },
   "source": [
    "## List of Dictionaries to Dataframes\n",
    "\n",
    "Recall that a list of dictionaries are like columns and rows in a csv"
   ]
  },
  {
   "cell_type": "code",
   "execution_count": null,
   "metadata": {},
   "outputs": [],
   "source": [
    "## import pandas\n",
    "\n",
    "import pandas as pd"
   ]
  },
  {
   "cell_type": "code",
   "execution_count": null,
   "metadata": {},
   "outputs": [],
   "source": [
    "## Turn list into a dataframe\n",
    "df = pd.DataFrame(method_1)\n",
    "df\n"
   ]
  },
  {
   "cell_type": "code",
   "execution_count": null,
   "metadata": {},
   "outputs": [],
   "source": [
    "## export as csv\n",
    "\n",
    "df.to_csv(\"method_1.csv\", encoding = \"UTF-8\", index = False)\n"
   ]
  },
  {
   "cell_type": "markdown",
   "metadata": {},
   "source": [
    "### One more datatype: ```tuple```:\n",
    "\n",
    "- Create a ```tuple``` by using parentheses.\n",
    "- It's just like a list but can not be changed once it is assigned a value(s).\n",
    "- You can call items in a ```tuple``` using slicing."
   ]
  },
  {
   "cell_type": "code",
   "execution_count": null,
   "metadata": {},
   "outputs": [],
   "source": [
    "## create a tuple\n",
    "grades = (95, 25, 30)\n"
   ]
  },
  {
   "cell_type": "code",
   "execution_count": null,
   "metadata": {},
   "outputs": [],
   "source": [
    "## call the tuple\n",
    "grades"
   ]
  },
  {
   "cell_type": "code",
   "execution_count": null,
   "metadata": {},
   "outputs": [],
   "source": [
    "## confirm data type\n",
    "\n",
    "\n",
    "type(grades)"
   ]
  },
  {
   "cell_type": "code",
   "execution_count": null,
   "metadata": {},
   "outputs": [],
   "source": [
    "## call the first item in our tuple\n",
    "grades[0]"
   ]
  },
  {
   "cell_type": "code",
   "execution_count": null,
   "metadata": {},
   "outputs": [],
   "source": [
    "## append a grade of 100 to the grades tuple\n",
    "## this will break\n",
    "grades.append(100)\n"
   ]
  },
  {
   "cell_type": "code",
   "execution_count": null,
   "metadata": {},
   "outputs": [],
   "source": [
    "## only way to add to a tuple is to create a new tuple\n",
    "## append a grade of 100 to the grades tuple\n",
    "updated_grade = grades + (100, )\n",
    "updated_grade\n"
   ]
  },
  {
   "cell_type": "markdown",
   "metadata": {},
   "source": [
    "I don't use ```tuples``` too often except in one situation – they provide a shortcut to turning items in a list into a dataframe."
   ]
  },
  {
   "cell_type": "markdown",
   "metadata": {},
   "source": [
    "## Method 2 – Zip into tuple"
   ]
  },
  {
   "cell_type": "code",
   "execution_count": null,
   "metadata": {},
   "outputs": [],
   "source": [
    "## recall we named each item in the for\n",
    "\n",
    "for (f_name, l_name, title, co, sector) in zip(first_names, last_names, titles, companies, industries):\n",
    "  print(f\"{f_name} {l_name}; {title}, {co}, {sector}\")"
   ]
  },
  {
   "cell_type": "code",
   "execution_count": null,
   "metadata": {
    "colab": {
     "base_uri": "https://localhost:8080/"
    },
    "executionInfo": {
     "elapsed": 263,
     "status": "ok",
     "timestamp": 1646149158299,
     "user": {
      "displayName": "Sandeep Junnarkar",
      "photoUrl": "https://lh3.googleusercontent.com/a/default-user=s64",
      "userId": "15658885848901522782"
     },
     "user_tz": 300
    },
    "id": "tSDiz6mdNQM2",
    "outputId": "77712e03-e3cb-4f50-9a81-2a29d3afe982"
   },
   "outputs": [],
   "source": [
    "## zip it and print\n",
    "\n",
    "for x in zip(first_names, last_names, titles, companies, industries):\n",
    "    print(x)"
   ]
  },
  {
   "cell_type": "code",
   "execution_count": null,
   "metadata": {},
   "outputs": [],
   "source": [
    "## we need to store into a list called method_2\n",
    "method_2 = []\n",
    "for item in zip(first_names, last_names, titles, companies, industries):\n",
    "    method_2.append(item)"
   ]
  },
  {
   "cell_type": "code",
   "execution_count": null,
   "metadata": {
    "colab": {
     "base_uri": "https://localhost:8080/"
    },
    "executionInfo": {
     "elapsed": 189,
     "status": "ok",
     "timestamp": 1646149170143,
     "user": {
      "displayName": "Sandeep Junnarkar",
      "photoUrl": "https://lh3.googleusercontent.com/a/default-user=s64",
      "userId": "15658885848901522782"
     },
     "user_tz": 300
    },
    "id": "8Q5tIszxItUK",
    "outputId": "660b5749-0210-42df-eb41-3fd5623c9e24"
   },
   "outputs": [],
   "source": [
    "## call method 2\n",
    "method_2"
   ]
  },
  {
   "cell_type": "code",
   "execution_count": null,
   "metadata": {},
   "outputs": [],
   "source": [
    "## what type of data set does this list hold?\n",
    "type(method_2)"
   ]
  },
  {
   "cell_type": "code",
   "execution_count": null,
   "metadata": {
    "colab": {
     "base_uri": "https://localhost:8080/",
     "height": 174
    },
    "executionInfo": {
     "elapsed": 196,
     "status": "ok",
     "timestamp": 1646149289298,
     "user": {
      "displayName": "Sandeep Junnarkar",
      "photoUrl": "https://lh3.googleusercontent.com/a/default-user=s64",
      "userId": "15658885848901522782"
     },
     "user_tz": 300
    },
    "id": "_O9ino76NaD8",
    "outputId": "7952ee45-165a-4915-961e-ad065584d1be"
   },
   "outputs": [],
   "source": [
    "## export to a pandas dataframe\n",
    "## export to a pandas dataframe\n",
    "df = pd.DataFrame(method_2)\n",
    "## name the columns\n",
    "df.columns = [\"first\", \"last\", \"title\", \"company\", \"industry\"]\n",
    "## name the columns\n"
   ]
  },
  {
   "cell_type": "code",
   "execution_count": null,
   "metadata": {
    "id": "0Cd61WpFOOsW"
   },
   "outputs": [],
   "source": [
    "## export to a csv\n",
    "## export to a csv\n",
    "df.to_csv(\"method_2.csv\", encoding = \"UTF-8\", index = False)"
   ]
  }
 ],
 "metadata": {
  "celltoolbar": "Slideshow",
  "colab": {
   "collapsed_sections": [
    "T8x4Mm-sTb43",
    "T6xApuSYTb5U"
   ],
   "name": "week-2-loops-list-comprehension-DEMO.ipynb",
   "provenance": [
    {
     "file_id": "1Nk6T3S4k1zH52s3eHzo4i1Yxx-iD6UjE",
     "timestamp": 1646140841906
    },
    {
     "file_id": "1cw5emV9TDdgVqq2HhYPppUKFYLobtPVC",
     "timestamp": 1642538656229
    },
    {
     "file_id": "1DhXxhMrJcwYydB2VNDAPReeAni-DDDHS",
     "timestamp": 1624385199338
    }
   ]
  },
  "kernelspec": {
   "display_name": "Python 3 (ipykernel)",
   "language": "python",
   "name": "python3"
  },
  "language_info": {
   "codemirror_mode": {
    "name": "ipython",
    "version": 3
   },
   "file_extension": ".py",
   "mimetype": "text/x-python",
   "name": "python",
   "nbconvert_exporter": "python",
   "pygments_lexer": "ipython3",
   "version": "3.9.7"
  }
 },
 "nbformat": 4,
 "nbformat_minor": 1
}
